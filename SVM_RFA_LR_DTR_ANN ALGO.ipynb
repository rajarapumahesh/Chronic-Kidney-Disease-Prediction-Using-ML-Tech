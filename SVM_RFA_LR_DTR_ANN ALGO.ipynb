{
 "cells": [
  {
   "cell_type": "code",
   "execution_count": 91,
   "id": "7f2a08ff",
   "metadata": {},
   "outputs": [],
   "source": [
    "import numpy as np\n",
    "import pandas as pd\n",
    "import matplotlib.pyplot as plt\n",
    "import seaborn as sns\n",
    "#import tensorflow as tf\n",
    "#from tensorflow import keras\n",
    "#from tensorflow.keras import layers\n",
    "from sklearn.model_selection import train_test_split\n",
    "from sklearn.metrics import mean_absolute_error,confusion_matrix\n",
    "from sklearn.ensemble import RandomForestClassifier\n",
    "from sklearn.svm import SVC\n",
    "from sklearn.preprocessing import MinMaxScaler\n",
    "from sklearn.linear_model import LogisticRegression\n",
    "from sklearn.model_selection import cross_val_score , train_test_split\n",
    "from sklearn.metrics import classification_report\n",
    "from sklearn.model_selection import train_test_split\n",
    "from sklearn.metrics import mean_absolute_error\n",
    "#from tf.keras.layers import Dense\n",
    "#from tf.keras.model import Sequential"
   ]
  },
  {
   "cell_type": "code",
   "execution_count": 92,
   "id": "3ab6d4ed",
   "metadata": {},
   "outputs": [
    {
     "data": {
      "text/html": [
       "<div>\n",
       "<style scoped>\n",
       "    .dataframe tbody tr th:only-of-type {\n",
       "        vertical-align: middle;\n",
       "    }\n",
       "\n",
       "    .dataframe tbody tr th {\n",
       "        vertical-align: top;\n",
       "    }\n",
       "\n",
       "    .dataframe thead th {\n",
       "        text-align: right;\n",
       "    }\n",
       "</style>\n",
       "<table border=\"1\" class=\"dataframe\">\n",
       "  <thead>\n",
       "    <tr style=\"text-align: right;\">\n",
       "      <th></th>\n",
       "      <th>id</th>\n",
       "      <th>age</th>\n",
       "      <th>bp</th>\n",
       "      <th>sg</th>\n",
       "      <th>al</th>\n",
       "      <th>su</th>\n",
       "      <th>rbc</th>\n",
       "      <th>pc</th>\n",
       "      <th>pcc</th>\n",
       "      <th>ba</th>\n",
       "      <th>...</th>\n",
       "      <th>pcv</th>\n",
       "      <th>wc</th>\n",
       "      <th>rc</th>\n",
       "      <th>htn</th>\n",
       "      <th>dm</th>\n",
       "      <th>cad</th>\n",
       "      <th>appet</th>\n",
       "      <th>pe</th>\n",
       "      <th>ane</th>\n",
       "      <th>classification</th>\n",
       "    </tr>\n",
       "  </thead>\n",
       "  <tbody>\n",
       "    <tr>\n",
       "      <th>0</th>\n",
       "      <td>0</td>\n",
       "      <td>48.0</td>\n",
       "      <td>80.0</td>\n",
       "      <td>1.020</td>\n",
       "      <td>1.0</td>\n",
       "      <td>0.0</td>\n",
       "      <td>NaN</td>\n",
       "      <td>normal</td>\n",
       "      <td>notpresent</td>\n",
       "      <td>notpresent</td>\n",
       "      <td>...</td>\n",
       "      <td>44</td>\n",
       "      <td>7800</td>\n",
       "      <td>5.2</td>\n",
       "      <td>yes</td>\n",
       "      <td>yes</td>\n",
       "      <td>no</td>\n",
       "      <td>good</td>\n",
       "      <td>no</td>\n",
       "      <td>no</td>\n",
       "      <td>ckd</td>\n",
       "    </tr>\n",
       "    <tr>\n",
       "      <th>1</th>\n",
       "      <td>1</td>\n",
       "      <td>7.0</td>\n",
       "      <td>50.0</td>\n",
       "      <td>1.020</td>\n",
       "      <td>4.0</td>\n",
       "      <td>0.0</td>\n",
       "      <td>NaN</td>\n",
       "      <td>normal</td>\n",
       "      <td>notpresent</td>\n",
       "      <td>notpresent</td>\n",
       "      <td>...</td>\n",
       "      <td>38</td>\n",
       "      <td>6000</td>\n",
       "      <td>NaN</td>\n",
       "      <td>no</td>\n",
       "      <td>no</td>\n",
       "      <td>no</td>\n",
       "      <td>good</td>\n",
       "      <td>no</td>\n",
       "      <td>no</td>\n",
       "      <td>ckd</td>\n",
       "    </tr>\n",
       "    <tr>\n",
       "      <th>2</th>\n",
       "      <td>2</td>\n",
       "      <td>62.0</td>\n",
       "      <td>80.0</td>\n",
       "      <td>1.010</td>\n",
       "      <td>2.0</td>\n",
       "      <td>3.0</td>\n",
       "      <td>normal</td>\n",
       "      <td>normal</td>\n",
       "      <td>notpresent</td>\n",
       "      <td>notpresent</td>\n",
       "      <td>...</td>\n",
       "      <td>31</td>\n",
       "      <td>7500</td>\n",
       "      <td>NaN</td>\n",
       "      <td>no</td>\n",
       "      <td>yes</td>\n",
       "      <td>no</td>\n",
       "      <td>poor</td>\n",
       "      <td>no</td>\n",
       "      <td>yes</td>\n",
       "      <td>ckd</td>\n",
       "    </tr>\n",
       "    <tr>\n",
       "      <th>3</th>\n",
       "      <td>3</td>\n",
       "      <td>48.0</td>\n",
       "      <td>70.0</td>\n",
       "      <td>1.005</td>\n",
       "      <td>4.0</td>\n",
       "      <td>0.0</td>\n",
       "      <td>normal</td>\n",
       "      <td>abnormal</td>\n",
       "      <td>present</td>\n",
       "      <td>notpresent</td>\n",
       "      <td>...</td>\n",
       "      <td>32</td>\n",
       "      <td>6700</td>\n",
       "      <td>3.9</td>\n",
       "      <td>yes</td>\n",
       "      <td>no</td>\n",
       "      <td>no</td>\n",
       "      <td>poor</td>\n",
       "      <td>yes</td>\n",
       "      <td>yes</td>\n",
       "      <td>ckd</td>\n",
       "    </tr>\n",
       "    <tr>\n",
       "      <th>4</th>\n",
       "      <td>4</td>\n",
       "      <td>51.0</td>\n",
       "      <td>80.0</td>\n",
       "      <td>1.010</td>\n",
       "      <td>2.0</td>\n",
       "      <td>0.0</td>\n",
       "      <td>normal</td>\n",
       "      <td>normal</td>\n",
       "      <td>notpresent</td>\n",
       "      <td>notpresent</td>\n",
       "      <td>...</td>\n",
       "      <td>35</td>\n",
       "      <td>7300</td>\n",
       "      <td>4.6</td>\n",
       "      <td>no</td>\n",
       "      <td>no</td>\n",
       "      <td>no</td>\n",
       "      <td>good</td>\n",
       "      <td>no</td>\n",
       "      <td>no</td>\n",
       "      <td>ckd</td>\n",
       "    </tr>\n",
       "    <tr>\n",
       "      <th>...</th>\n",
       "      <td>...</td>\n",
       "      <td>...</td>\n",
       "      <td>...</td>\n",
       "      <td>...</td>\n",
       "      <td>...</td>\n",
       "      <td>...</td>\n",
       "      <td>...</td>\n",
       "      <td>...</td>\n",
       "      <td>...</td>\n",
       "      <td>...</td>\n",
       "      <td>...</td>\n",
       "      <td>...</td>\n",
       "      <td>...</td>\n",
       "      <td>...</td>\n",
       "      <td>...</td>\n",
       "      <td>...</td>\n",
       "      <td>...</td>\n",
       "      <td>...</td>\n",
       "      <td>...</td>\n",
       "      <td>...</td>\n",
       "      <td>...</td>\n",
       "    </tr>\n",
       "    <tr>\n",
       "      <th>395</th>\n",
       "      <td>395</td>\n",
       "      <td>55.0</td>\n",
       "      <td>80.0</td>\n",
       "      <td>1.020</td>\n",
       "      <td>0.0</td>\n",
       "      <td>0.0</td>\n",
       "      <td>normal</td>\n",
       "      <td>normal</td>\n",
       "      <td>notpresent</td>\n",
       "      <td>notpresent</td>\n",
       "      <td>...</td>\n",
       "      <td>47</td>\n",
       "      <td>6700</td>\n",
       "      <td>4.9</td>\n",
       "      <td>no</td>\n",
       "      <td>no</td>\n",
       "      <td>no</td>\n",
       "      <td>good</td>\n",
       "      <td>no</td>\n",
       "      <td>no</td>\n",
       "      <td>notckd</td>\n",
       "    </tr>\n",
       "    <tr>\n",
       "      <th>396</th>\n",
       "      <td>396</td>\n",
       "      <td>42.0</td>\n",
       "      <td>70.0</td>\n",
       "      <td>1.025</td>\n",
       "      <td>0.0</td>\n",
       "      <td>0.0</td>\n",
       "      <td>normal</td>\n",
       "      <td>normal</td>\n",
       "      <td>notpresent</td>\n",
       "      <td>notpresent</td>\n",
       "      <td>...</td>\n",
       "      <td>54</td>\n",
       "      <td>7800</td>\n",
       "      <td>6.2</td>\n",
       "      <td>no</td>\n",
       "      <td>no</td>\n",
       "      <td>no</td>\n",
       "      <td>good</td>\n",
       "      <td>no</td>\n",
       "      <td>no</td>\n",
       "      <td>notckd</td>\n",
       "    </tr>\n",
       "    <tr>\n",
       "      <th>397</th>\n",
       "      <td>397</td>\n",
       "      <td>12.0</td>\n",
       "      <td>80.0</td>\n",
       "      <td>1.020</td>\n",
       "      <td>0.0</td>\n",
       "      <td>0.0</td>\n",
       "      <td>normal</td>\n",
       "      <td>normal</td>\n",
       "      <td>notpresent</td>\n",
       "      <td>notpresent</td>\n",
       "      <td>...</td>\n",
       "      <td>49</td>\n",
       "      <td>6600</td>\n",
       "      <td>5.4</td>\n",
       "      <td>no</td>\n",
       "      <td>no</td>\n",
       "      <td>no</td>\n",
       "      <td>good</td>\n",
       "      <td>no</td>\n",
       "      <td>no</td>\n",
       "      <td>notckd</td>\n",
       "    </tr>\n",
       "    <tr>\n",
       "      <th>398</th>\n",
       "      <td>398</td>\n",
       "      <td>17.0</td>\n",
       "      <td>60.0</td>\n",
       "      <td>1.025</td>\n",
       "      <td>0.0</td>\n",
       "      <td>0.0</td>\n",
       "      <td>normal</td>\n",
       "      <td>normal</td>\n",
       "      <td>notpresent</td>\n",
       "      <td>notpresent</td>\n",
       "      <td>...</td>\n",
       "      <td>51</td>\n",
       "      <td>7200</td>\n",
       "      <td>5.9</td>\n",
       "      <td>no</td>\n",
       "      <td>no</td>\n",
       "      <td>no</td>\n",
       "      <td>good</td>\n",
       "      <td>no</td>\n",
       "      <td>no</td>\n",
       "      <td>notckd</td>\n",
       "    </tr>\n",
       "    <tr>\n",
       "      <th>399</th>\n",
       "      <td>399</td>\n",
       "      <td>58.0</td>\n",
       "      <td>80.0</td>\n",
       "      <td>1.025</td>\n",
       "      <td>0.0</td>\n",
       "      <td>0.0</td>\n",
       "      <td>normal</td>\n",
       "      <td>normal</td>\n",
       "      <td>notpresent</td>\n",
       "      <td>notpresent</td>\n",
       "      <td>...</td>\n",
       "      <td>53</td>\n",
       "      <td>6800</td>\n",
       "      <td>6.1</td>\n",
       "      <td>no</td>\n",
       "      <td>no</td>\n",
       "      <td>no</td>\n",
       "      <td>good</td>\n",
       "      <td>no</td>\n",
       "      <td>no</td>\n",
       "      <td>notckd</td>\n",
       "    </tr>\n",
       "  </tbody>\n",
       "</table>\n",
       "<p>400 rows × 26 columns</p>\n",
       "</div>"
      ],
      "text/plain": [
       "      id   age    bp     sg   al   su     rbc        pc         pcc  \\\n",
       "0      0  48.0  80.0  1.020  1.0  0.0     NaN    normal  notpresent   \n",
       "1      1   7.0  50.0  1.020  4.0  0.0     NaN    normal  notpresent   \n",
       "2      2  62.0  80.0  1.010  2.0  3.0  normal    normal  notpresent   \n",
       "3      3  48.0  70.0  1.005  4.0  0.0  normal  abnormal     present   \n",
       "4      4  51.0  80.0  1.010  2.0  0.0  normal    normal  notpresent   \n",
       "..   ...   ...   ...    ...  ...  ...     ...       ...         ...   \n",
       "395  395  55.0  80.0  1.020  0.0  0.0  normal    normal  notpresent   \n",
       "396  396  42.0  70.0  1.025  0.0  0.0  normal    normal  notpresent   \n",
       "397  397  12.0  80.0  1.020  0.0  0.0  normal    normal  notpresent   \n",
       "398  398  17.0  60.0  1.025  0.0  0.0  normal    normal  notpresent   \n",
       "399  399  58.0  80.0  1.025  0.0  0.0  normal    normal  notpresent   \n",
       "\n",
       "             ba  ...  pcv    wc   rc  htn   dm  cad appet   pe  ane  \\\n",
       "0    notpresent  ...   44  7800  5.2  yes  yes   no  good   no   no   \n",
       "1    notpresent  ...   38  6000  NaN   no   no   no  good   no   no   \n",
       "2    notpresent  ...   31  7500  NaN   no  yes   no  poor   no  yes   \n",
       "3    notpresent  ...   32  6700  3.9  yes   no   no  poor  yes  yes   \n",
       "4    notpresent  ...   35  7300  4.6   no   no   no  good   no   no   \n",
       "..          ...  ...  ...   ...  ...  ...  ...  ...   ...  ...  ...   \n",
       "395  notpresent  ...   47  6700  4.9   no   no   no  good   no   no   \n",
       "396  notpresent  ...   54  7800  6.2   no   no   no  good   no   no   \n",
       "397  notpresent  ...   49  6600  5.4   no   no   no  good   no   no   \n",
       "398  notpresent  ...   51  7200  5.9   no   no   no  good   no   no   \n",
       "399  notpresent  ...   53  6800  6.1   no   no   no  good   no   no   \n",
       "\n",
       "    classification  \n",
       "0              ckd  \n",
       "1              ckd  \n",
       "2              ckd  \n",
       "3              ckd  \n",
       "4              ckd  \n",
       "..             ...  \n",
       "395         notckd  \n",
       "396         notckd  \n",
       "397         notckd  \n",
       "398         notckd  \n",
       "399         notckd  \n",
       "\n",
       "[400 rows x 26 columns]"
      ]
     },
     "execution_count": 92,
     "metadata": {},
     "output_type": "execute_result"
    }
   ],
   "source": [
    "df=pd.read_csv(r\"C:\\Users\\MAHESH\\seaborn-data\\kidney_disease_mini project.csv\")\n",
    "df"
   ]
  },
  {
   "cell_type": "code",
   "execution_count": 93,
   "id": "6a4f22ba",
   "metadata": {},
   "outputs": [
    {
     "data": {
      "text/plain": [
       "id                  0\n",
       "age                 9\n",
       "bp                 12\n",
       "sg                 47\n",
       "al                 46\n",
       "su                 49\n",
       "rbc               152\n",
       "pc                 65\n",
       "pcc                 4\n",
       "ba                  4\n",
       "bgr                44\n",
       "bu                 19\n",
       "sc                 17\n",
       "sod                87\n",
       "pot                88\n",
       "hemo               52\n",
       "pcv                70\n",
       "wc                105\n",
       "rc                130\n",
       "htn                 2\n",
       "dm                  2\n",
       "cad                 2\n",
       "appet               1\n",
       "pe                  1\n",
       "ane                 1\n",
       "classification      0\n",
       "dtype: int64"
      ]
     },
     "execution_count": 93,
     "metadata": {},
     "output_type": "execute_result"
    }
   ],
   "source": [
    "df.isnull().sum()"
   ]
  },
  {
   "cell_type": "code",
   "execution_count": 94,
   "id": "7344a1d5",
   "metadata": {},
   "outputs": [],
   "source": [
    "data=df.drop(['id'], axis=1)"
   ]
  },
  {
   "cell_type": "code",
   "execution_count": 95,
   "id": "699828a8",
   "metadata": {},
   "outputs": [
    {
     "data": {
      "text/plain": [
       "(400, 25)"
      ]
     },
     "execution_count": 95,
     "metadata": {},
     "output_type": "execute_result"
    }
   ],
   "source": [
    "data.shape"
   ]
  },
  {
   "cell_type": "code",
   "execution_count": 96,
   "id": "d81b31b5",
   "metadata": {
    "scrolled": true
   },
   "outputs": [
    {
     "data": {
      "text/plain": [
       "Index(['age', 'bp', 'sg', 'al', 'su', 'rbc', 'pc', 'pcc', 'ba', 'bgr', 'bu',\n",
       "       'sc', 'sod', 'pot', 'hemo', 'pcv', 'wc', 'rc', 'htn', 'dm', 'cad',\n",
       "       'appet', 'pe', 'ane', 'classification'],\n",
       "      dtype='object')"
      ]
     },
     "execution_count": 96,
     "metadata": {},
     "output_type": "execute_result"
    }
   ],
   "source": [
    "data.columns"
   ]
  },
  {
   "cell_type": "code",
   "execution_count": 97,
   "id": "fe99003d",
   "metadata": {},
   "outputs": [
    {
     "name": "stdout",
     "output_type": "stream",
     "text": [
      "<class 'pandas.core.frame.DataFrame'>\n",
      "RangeIndex: 400 entries, 0 to 399\n",
      "Data columns (total 25 columns):\n",
      " #   Column          Non-Null Count  Dtype  \n",
      "---  ------          --------------  -----  \n",
      " 0   age             391 non-null    float64\n",
      " 1   bp              388 non-null    float64\n",
      " 2   sg              353 non-null    float64\n",
      " 3   al              354 non-null    float64\n",
      " 4   su              351 non-null    float64\n",
      " 5   rbc             248 non-null    object \n",
      " 6   pc              335 non-null    object \n",
      " 7   pcc             396 non-null    object \n",
      " 8   ba              396 non-null    object \n",
      " 9   bgr             356 non-null    float64\n",
      " 10  bu              381 non-null    float64\n",
      " 11  sc              383 non-null    float64\n",
      " 12  sod             313 non-null    float64\n",
      " 13  pot             312 non-null    float64\n",
      " 14  hemo            348 non-null    float64\n",
      " 15  pcv             330 non-null    object \n",
      " 16  wc              295 non-null    object \n",
      " 17  rc              270 non-null    object \n",
      " 18  htn             398 non-null    object \n",
      " 19  dm              398 non-null    object \n",
      " 20  cad             398 non-null    object \n",
      " 21  appet           399 non-null    object \n",
      " 22  pe              399 non-null    object \n",
      " 23  ane             399 non-null    object \n",
      " 24  classification  400 non-null    object \n",
      "dtypes: float64(11), object(14)\n",
      "memory usage: 78.2+ KB\n"
     ]
    }
   ],
   "source": [
    "data.info()"
   ]
  },
  {
   "cell_type": "code",
   "execution_count": 98,
   "id": "d6e5e8d5",
   "metadata": {},
   "outputs": [
    {
     "data": {
      "text/plain": [
       "['rbc',\n",
       " 'pc',\n",
       " 'pcc',\n",
       " 'ba',\n",
       " 'pcv',\n",
       " 'wc',\n",
       " 'rc',\n",
       " 'htn',\n",
       " 'dm',\n",
       " 'cad',\n",
       " 'appet',\n",
       " 'pe',\n",
       " 'ane',\n",
       " 'classification']"
      ]
     },
     "execution_count": 98,
     "metadata": {},
     "output_type": "execute_result"
    }
   ],
   "source": [
    "categorial_cols = [col for col in data.columns if data[col].dtype==\"object\"]\n",
    "categorial_cols"
   ]
  },
  {
   "cell_type": "code",
   "execution_count": 99,
   "id": "f3164389",
   "metadata": {},
   "outputs": [
    {
     "data": {
      "text/plain": [
       "['age', 'bp', 'sg', 'al', 'su', 'bgr', 'bu', 'sc', 'sod', 'pot', 'hemo']"
      ]
     },
     "execution_count": 99,
     "metadata": {},
     "output_type": "execute_result"
    }
   ],
   "source": [
    "numerical_cols = [x for x in data.columns if not x in categorial_cols]\n",
    "numerical_cols"
   ]
  },
  {
   "cell_type": "code",
   "execution_count": 100,
   "id": "cd87b153",
   "metadata": {},
   "outputs": [],
   "source": [
    "for i in ['rc','wc','pcv']:\n",
    "    data[i] = data[i].str.extract('(\\d+)').astype(float)"
   ]
  },
  {
   "cell_type": "code",
   "execution_count": 101,
   "id": "41ed33b1",
   "metadata": {},
   "outputs": [],
   "source": [
    "for i in ['age','bp','sg','al','su','bgr','bu','sc','sod','pot','hemo','rc','wc','pcv']:\n",
    "    data[i].fillna(data[i].mean(),inplace=True)"
   ]
  },
  {
   "cell_type": "code",
   "execution_count": 102,
   "id": "8af1bc2c",
   "metadata": {},
   "outputs": [],
   "source": [
    "rbc=data['rbc'].map({'normal':1, 'abnormal':0})\n"
   ]
  },
  {
   "cell_type": "code",
   "execution_count": 103,
   "id": "96eba966",
   "metadata": {},
   "outputs": [],
   "source": [
    "pc=data['pc'].map({'normal':1, 'abnormal':0})"
   ]
  },
  {
   "cell_type": "code",
   "execution_count": 104,
   "id": "30433e9d",
   "metadata": {},
   "outputs": [],
   "source": [
    "pcc=data['pcc'].map({'present':0, 'notpresent':1})"
   ]
  },
  {
   "cell_type": "code",
   "execution_count": 105,
   "id": "45b027ba",
   "metadata": {},
   "outputs": [],
   "source": [
    "ba=data['ba'].map({'notpresent':1, 'present':0})"
   ]
  },
  {
   "cell_type": "code",
   "execution_count": 106,
   "id": "ede870b4",
   "metadata": {},
   "outputs": [],
   "source": [
    "data.drop([\"rbc\",\"pc\",\"pcc\",\"ba\"],axis=1,inplace=True)"
   ]
  },
  {
   "cell_type": "code",
   "execution_count": 107,
   "id": "c3dc9db0",
   "metadata": {
    "scrolled": false
   },
   "outputs": [
    {
     "data": {
      "text/html": [
       "<div>\n",
       "<style scoped>\n",
       "    .dataframe tbody tr th:only-of-type {\n",
       "        vertical-align: middle;\n",
       "    }\n",
       "\n",
       "    .dataframe tbody tr th {\n",
       "        vertical-align: top;\n",
       "    }\n",
       "\n",
       "    .dataframe thead th {\n",
       "        text-align: right;\n",
       "    }\n",
       "</style>\n",
       "<table border=\"1\" class=\"dataframe\">\n",
       "  <thead>\n",
       "    <tr style=\"text-align: right;\">\n",
       "      <th></th>\n",
       "      <th>age</th>\n",
       "      <th>bp</th>\n",
       "      <th>sg</th>\n",
       "      <th>al</th>\n",
       "      <th>su</th>\n",
       "      <th>bgr</th>\n",
       "      <th>bu</th>\n",
       "      <th>sc</th>\n",
       "      <th>sod</th>\n",
       "      <th>pot</th>\n",
       "      <th>...</th>\n",
       "      <th>pcv</th>\n",
       "      <th>wc</th>\n",
       "      <th>rc</th>\n",
       "      <th>htn</th>\n",
       "      <th>dm</th>\n",
       "      <th>cad</th>\n",
       "      <th>appet</th>\n",
       "      <th>pe</th>\n",
       "      <th>ane</th>\n",
       "      <th>classification</th>\n",
       "    </tr>\n",
       "  </thead>\n",
       "  <tbody>\n",
       "    <tr>\n",
       "      <th>0</th>\n",
       "      <td>48.0</td>\n",
       "      <td>80.0</td>\n",
       "      <td>1.020</td>\n",
       "      <td>1.0</td>\n",
       "      <td>0.0</td>\n",
       "      <td>121.000000</td>\n",
       "      <td>36.0</td>\n",
       "      <td>1.2</td>\n",
       "      <td>137.528754</td>\n",
       "      <td>4.627244</td>\n",
       "      <td>...</td>\n",
       "      <td>44.0</td>\n",
       "      <td>7800.0</td>\n",
       "      <td>5.000000</td>\n",
       "      <td>yes</td>\n",
       "      <td>yes</td>\n",
       "      <td>no</td>\n",
       "      <td>good</td>\n",
       "      <td>no</td>\n",
       "      <td>no</td>\n",
       "      <td>ckd</td>\n",
       "    </tr>\n",
       "    <tr>\n",
       "      <th>1</th>\n",
       "      <td>7.0</td>\n",
       "      <td>50.0</td>\n",
       "      <td>1.020</td>\n",
       "      <td>4.0</td>\n",
       "      <td>0.0</td>\n",
       "      <td>148.036517</td>\n",
       "      <td>18.0</td>\n",
       "      <td>0.8</td>\n",
       "      <td>137.528754</td>\n",
       "      <td>4.627244</td>\n",
       "      <td>...</td>\n",
       "      <td>38.0</td>\n",
       "      <td>6000.0</td>\n",
       "      <td>4.241636</td>\n",
       "      <td>no</td>\n",
       "      <td>no</td>\n",
       "      <td>no</td>\n",
       "      <td>good</td>\n",
       "      <td>no</td>\n",
       "      <td>no</td>\n",
       "      <td>ckd</td>\n",
       "    </tr>\n",
       "    <tr>\n",
       "      <th>2</th>\n",
       "      <td>62.0</td>\n",
       "      <td>80.0</td>\n",
       "      <td>1.010</td>\n",
       "      <td>2.0</td>\n",
       "      <td>3.0</td>\n",
       "      <td>423.000000</td>\n",
       "      <td>53.0</td>\n",
       "      <td>1.8</td>\n",
       "      <td>137.528754</td>\n",
       "      <td>4.627244</td>\n",
       "      <td>...</td>\n",
       "      <td>31.0</td>\n",
       "      <td>7500.0</td>\n",
       "      <td>4.241636</td>\n",
       "      <td>no</td>\n",
       "      <td>yes</td>\n",
       "      <td>no</td>\n",
       "      <td>poor</td>\n",
       "      <td>no</td>\n",
       "      <td>yes</td>\n",
       "      <td>ckd</td>\n",
       "    </tr>\n",
       "    <tr>\n",
       "      <th>3</th>\n",
       "      <td>48.0</td>\n",
       "      <td>70.0</td>\n",
       "      <td>1.005</td>\n",
       "      <td>4.0</td>\n",
       "      <td>0.0</td>\n",
       "      <td>117.000000</td>\n",
       "      <td>56.0</td>\n",
       "      <td>3.8</td>\n",
       "      <td>111.000000</td>\n",
       "      <td>2.500000</td>\n",
       "      <td>...</td>\n",
       "      <td>32.0</td>\n",
       "      <td>6700.0</td>\n",
       "      <td>3.000000</td>\n",
       "      <td>yes</td>\n",
       "      <td>no</td>\n",
       "      <td>no</td>\n",
       "      <td>poor</td>\n",
       "      <td>yes</td>\n",
       "      <td>yes</td>\n",
       "      <td>ckd</td>\n",
       "    </tr>\n",
       "    <tr>\n",
       "      <th>4</th>\n",
       "      <td>51.0</td>\n",
       "      <td>80.0</td>\n",
       "      <td>1.010</td>\n",
       "      <td>2.0</td>\n",
       "      <td>0.0</td>\n",
       "      <td>106.000000</td>\n",
       "      <td>26.0</td>\n",
       "      <td>1.4</td>\n",
       "      <td>137.528754</td>\n",
       "      <td>4.627244</td>\n",
       "      <td>...</td>\n",
       "      <td>35.0</td>\n",
       "      <td>7300.0</td>\n",
       "      <td>4.000000</td>\n",
       "      <td>no</td>\n",
       "      <td>no</td>\n",
       "      <td>no</td>\n",
       "      <td>good</td>\n",
       "      <td>no</td>\n",
       "      <td>no</td>\n",
       "      <td>ckd</td>\n",
       "    </tr>\n",
       "  </tbody>\n",
       "</table>\n",
       "<p>5 rows × 21 columns</p>\n",
       "</div>"
      ],
      "text/plain": [
       "    age    bp     sg   al   su         bgr    bu   sc         sod       pot  \\\n",
       "0  48.0  80.0  1.020  1.0  0.0  121.000000  36.0  1.2  137.528754  4.627244   \n",
       "1   7.0  50.0  1.020  4.0  0.0  148.036517  18.0  0.8  137.528754  4.627244   \n",
       "2  62.0  80.0  1.010  2.0  3.0  423.000000  53.0  1.8  137.528754  4.627244   \n",
       "3  48.0  70.0  1.005  4.0  0.0  117.000000  56.0  3.8  111.000000  2.500000   \n",
       "4  51.0  80.0  1.010  2.0  0.0  106.000000  26.0  1.4  137.528754  4.627244   \n",
       "\n",
       "   ...   pcv      wc        rc  htn   dm cad appet   pe  ane classification  \n",
       "0  ...  44.0  7800.0  5.000000  yes  yes  no  good   no   no            ckd  \n",
       "1  ...  38.0  6000.0  4.241636   no   no  no  good   no   no            ckd  \n",
       "2  ...  31.0  7500.0  4.241636   no  yes  no  poor   no  yes            ckd  \n",
       "3  ...  32.0  6700.0  3.000000  yes   no  no  poor  yes  yes            ckd  \n",
       "4  ...  35.0  7300.0  4.000000   no   no  no  good   no   no            ckd  \n",
       "\n",
       "[5 rows x 21 columns]"
      ]
     },
     "execution_count": 107,
     "metadata": {},
     "output_type": "execute_result"
    }
   ],
   "source": [
    "data.head()"
   ]
  },
  {
   "cell_type": "code",
   "execution_count": 108,
   "id": "ba2edd1b",
   "metadata": {},
   "outputs": [],
   "source": [
    "data = pd.concat([data,rbc,pc,pcc,ba],axis=1)"
   ]
  },
  {
   "cell_type": "code",
   "execution_count": 109,
   "id": "eac2d18f",
   "metadata": {},
   "outputs": [
    {
     "data": {
      "text/html": [
       "<div>\n",
       "<style scoped>\n",
       "    .dataframe tbody tr th:only-of-type {\n",
       "        vertical-align: middle;\n",
       "    }\n",
       "\n",
       "    .dataframe tbody tr th {\n",
       "        vertical-align: top;\n",
       "    }\n",
       "\n",
       "    .dataframe thead th {\n",
       "        text-align: right;\n",
       "    }\n",
       "</style>\n",
       "<table border=\"1\" class=\"dataframe\">\n",
       "  <thead>\n",
       "    <tr style=\"text-align: right;\">\n",
       "      <th></th>\n",
       "      <th>age</th>\n",
       "      <th>bp</th>\n",
       "      <th>sg</th>\n",
       "      <th>al</th>\n",
       "      <th>su</th>\n",
       "      <th>bgr</th>\n",
       "      <th>bu</th>\n",
       "      <th>sc</th>\n",
       "      <th>sod</th>\n",
       "      <th>pot</th>\n",
       "      <th>...</th>\n",
       "      <th>dm</th>\n",
       "      <th>cad</th>\n",
       "      <th>appet</th>\n",
       "      <th>pe</th>\n",
       "      <th>ane</th>\n",
       "      <th>classification</th>\n",
       "      <th>rbc</th>\n",
       "      <th>pc</th>\n",
       "      <th>pcc</th>\n",
       "      <th>ba</th>\n",
       "    </tr>\n",
       "  </thead>\n",
       "  <tbody>\n",
       "    <tr>\n",
       "      <th>0</th>\n",
       "      <td>48.0</td>\n",
       "      <td>80.0</td>\n",
       "      <td>1.020</td>\n",
       "      <td>1.0</td>\n",
       "      <td>0.0</td>\n",
       "      <td>121.000000</td>\n",
       "      <td>36.0</td>\n",
       "      <td>1.2</td>\n",
       "      <td>137.528754</td>\n",
       "      <td>4.627244</td>\n",
       "      <td>...</td>\n",
       "      <td>yes</td>\n",
       "      <td>no</td>\n",
       "      <td>good</td>\n",
       "      <td>no</td>\n",
       "      <td>no</td>\n",
       "      <td>ckd</td>\n",
       "      <td>NaN</td>\n",
       "      <td>1.0</td>\n",
       "      <td>1.0</td>\n",
       "      <td>1.0</td>\n",
       "    </tr>\n",
       "    <tr>\n",
       "      <th>1</th>\n",
       "      <td>7.0</td>\n",
       "      <td>50.0</td>\n",
       "      <td>1.020</td>\n",
       "      <td>4.0</td>\n",
       "      <td>0.0</td>\n",
       "      <td>148.036517</td>\n",
       "      <td>18.0</td>\n",
       "      <td>0.8</td>\n",
       "      <td>137.528754</td>\n",
       "      <td>4.627244</td>\n",
       "      <td>...</td>\n",
       "      <td>no</td>\n",
       "      <td>no</td>\n",
       "      <td>good</td>\n",
       "      <td>no</td>\n",
       "      <td>no</td>\n",
       "      <td>ckd</td>\n",
       "      <td>NaN</td>\n",
       "      <td>1.0</td>\n",
       "      <td>1.0</td>\n",
       "      <td>1.0</td>\n",
       "    </tr>\n",
       "    <tr>\n",
       "      <th>2</th>\n",
       "      <td>62.0</td>\n",
       "      <td>80.0</td>\n",
       "      <td>1.010</td>\n",
       "      <td>2.0</td>\n",
       "      <td>3.0</td>\n",
       "      <td>423.000000</td>\n",
       "      <td>53.0</td>\n",
       "      <td>1.8</td>\n",
       "      <td>137.528754</td>\n",
       "      <td>4.627244</td>\n",
       "      <td>...</td>\n",
       "      <td>yes</td>\n",
       "      <td>no</td>\n",
       "      <td>poor</td>\n",
       "      <td>no</td>\n",
       "      <td>yes</td>\n",
       "      <td>ckd</td>\n",
       "      <td>1.0</td>\n",
       "      <td>1.0</td>\n",
       "      <td>1.0</td>\n",
       "      <td>1.0</td>\n",
       "    </tr>\n",
       "    <tr>\n",
       "      <th>3</th>\n",
       "      <td>48.0</td>\n",
       "      <td>70.0</td>\n",
       "      <td>1.005</td>\n",
       "      <td>4.0</td>\n",
       "      <td>0.0</td>\n",
       "      <td>117.000000</td>\n",
       "      <td>56.0</td>\n",
       "      <td>3.8</td>\n",
       "      <td>111.000000</td>\n",
       "      <td>2.500000</td>\n",
       "      <td>...</td>\n",
       "      <td>no</td>\n",
       "      <td>no</td>\n",
       "      <td>poor</td>\n",
       "      <td>yes</td>\n",
       "      <td>yes</td>\n",
       "      <td>ckd</td>\n",
       "      <td>1.0</td>\n",
       "      <td>0.0</td>\n",
       "      <td>0.0</td>\n",
       "      <td>1.0</td>\n",
       "    </tr>\n",
       "    <tr>\n",
       "      <th>4</th>\n",
       "      <td>51.0</td>\n",
       "      <td>80.0</td>\n",
       "      <td>1.010</td>\n",
       "      <td>2.0</td>\n",
       "      <td>0.0</td>\n",
       "      <td>106.000000</td>\n",
       "      <td>26.0</td>\n",
       "      <td>1.4</td>\n",
       "      <td>137.528754</td>\n",
       "      <td>4.627244</td>\n",
       "      <td>...</td>\n",
       "      <td>no</td>\n",
       "      <td>no</td>\n",
       "      <td>good</td>\n",
       "      <td>no</td>\n",
       "      <td>no</td>\n",
       "      <td>ckd</td>\n",
       "      <td>1.0</td>\n",
       "      <td>1.0</td>\n",
       "      <td>1.0</td>\n",
       "      <td>1.0</td>\n",
       "    </tr>\n",
       "  </tbody>\n",
       "</table>\n",
       "<p>5 rows × 25 columns</p>\n",
       "</div>"
      ],
      "text/plain": [
       "    age    bp     sg   al   su         bgr    bu   sc         sod       pot  \\\n",
       "0  48.0  80.0  1.020  1.0  0.0  121.000000  36.0  1.2  137.528754  4.627244   \n",
       "1   7.0  50.0  1.020  4.0  0.0  148.036517  18.0  0.8  137.528754  4.627244   \n",
       "2  62.0  80.0  1.010  2.0  3.0  423.000000  53.0  1.8  137.528754  4.627244   \n",
       "3  48.0  70.0  1.005  4.0  0.0  117.000000  56.0  3.8  111.000000  2.500000   \n",
       "4  51.0  80.0  1.010  2.0  0.0  106.000000  26.0  1.4  137.528754  4.627244   \n",
       "\n",
       "   ...   dm  cad  appet   pe  ane classification  rbc   pc  pcc   ba  \n",
       "0  ...  yes   no   good   no   no            ckd  NaN  1.0  1.0  1.0  \n",
       "1  ...   no   no   good   no   no            ckd  NaN  1.0  1.0  1.0  \n",
       "2  ...  yes   no   poor   no  yes            ckd  1.0  1.0  1.0  1.0  \n",
       "3  ...   no   no   poor  yes  yes            ckd  1.0  0.0  0.0  1.0  \n",
       "4  ...   no   no   good   no   no            ckd  1.0  1.0  1.0  1.0  \n",
       "\n",
       "[5 rows x 25 columns]"
      ]
     },
     "execution_count": 109,
     "metadata": {},
     "output_type": "execute_result"
    }
   ],
   "source": [
    "data.head()"
   ]
  },
  {
   "cell_type": "code",
   "execution_count": 110,
   "id": "672f711f",
   "metadata": {},
   "outputs": [
    {
     "name": "stdout",
     "output_type": "stream",
     "text": [
      "<class 'pandas.core.frame.DataFrame'>\n",
      "RangeIndex: 400 entries, 0 to 399\n",
      "Data columns (total 25 columns):\n",
      " #   Column          Non-Null Count  Dtype  \n",
      "---  ------          --------------  -----  \n",
      " 0   age             400 non-null    float64\n",
      " 1   bp              400 non-null    float64\n",
      " 2   sg              400 non-null    float64\n",
      " 3   al              400 non-null    float64\n",
      " 4   su              400 non-null    float64\n",
      " 5   bgr             400 non-null    float64\n",
      " 6   bu              400 non-null    float64\n",
      " 7   sc              400 non-null    float64\n",
      " 8   sod             400 non-null    float64\n",
      " 9   pot             400 non-null    float64\n",
      " 10  hemo            400 non-null    float64\n",
      " 11  pcv             400 non-null    float64\n",
      " 12  wc              400 non-null    float64\n",
      " 13  rc              400 non-null    float64\n",
      " 14  htn             398 non-null    object \n",
      " 15  dm              398 non-null    object \n",
      " 16  cad             398 non-null    object \n",
      " 17  appet           399 non-null    object \n",
      " 18  pe              399 non-null    object \n",
      " 19  ane             399 non-null    object \n",
      " 20  classification  400 non-null    object \n",
      " 21  rbc             248 non-null    float64\n",
      " 22  pc              335 non-null    float64\n",
      " 23  pcc             396 non-null    float64\n",
      " 24  ba              396 non-null    float64\n",
      "dtypes: float64(18), object(7)\n",
      "memory usage: 78.2+ KB\n"
     ]
    }
   ],
   "source": [
    "data.info()"
   ]
  },
  {
   "cell_type": "code",
   "execution_count": 111,
   "id": "5d666ffd",
   "metadata": {},
   "outputs": [],
   "source": [
    "k=data[\"age\"].apply(lambda x : int(x)//10).to_list()"
   ]
  },
  {
   "cell_type": "code",
   "execution_count": 112,
   "id": "17b69b7f",
   "metadata": {},
   "outputs": [
    {
     "data": {
      "text/plain": [
       "[10, 11, 23, 43, 71, 91, 96, 47, 7, 1]"
      ]
     },
     "execution_count": 112,
     "metadata": {},
     "output_type": "execute_result"
    }
   ],
   "source": [
    "a=[0]*10\n",
    "for i in range(len(k)):\n",
    "    a[k[i]]+=1\n",
    "a"
   ]
  },
  {
   "cell_type": "code",
   "execution_count": 113,
   "id": "ba11f2de",
   "metadata": {},
   "outputs": [
    {
     "data": {
      "image/png": "[encoded data removed]",
      "text/plain": [
       "<Figure size 504x504 with 1 Axes>"
      ]
     },
     "metadata": {},
     "output_type": "display_data"
    }
   ],
   "source": [
    "plt.figure(figsize= (7,7))\n",
    "x_labels = ['0-9','10-19','20-29','30-39','40-49','50-59','60-69','70-79','80-89','90-99']\n",
    "y_labels = np.array(a)\n",
    "plt.pie(y_labels, labels = x_labels)\n",
    "#plt.pie(x=data[\"age\"],labels=data[\"classification\"])\n",
    "plt.show() "
   ]
  },
  {
   "cell_type": "code",
   "execution_count": 114,
   "id": "3ef906b0",
   "metadata": {
    "scrolled": true
   },
   "outputs": [
    {
     "data": {
      "text/plain": [
       "ckd       248\n",
       "notckd    150\n",
       "ckd\\t       2\n",
       "Name: classification, dtype: int64"
      ]
     },
     "execution_count": 114,
     "metadata": {},
     "output_type": "execute_result"
    }
   ],
   "source": [
    "data[\"classification\"].value_counts()"
   ]
  },
  {
   "cell_type": "code",
   "execution_count": 115,
   "id": "2ac42013",
   "metadata": {},
   "outputs": [],
   "source": [
    "data.replace({\"notckd\":0,\"ckd\":1,\"ckd\\t\":1},inplace=True)"
   ]
  },
  {
   "cell_type": "code",
   "execution_count": 116,
   "id": "80431013",
   "metadata": {},
   "outputs": [
    {
     "data": {
      "image/png": "[encoded data removed]",
      "text/plain": [
       "<Figure size 1800x720 with 1 Axes>"
      ]
     },
     "metadata": {
      "needs_background": "light"
     },
     "output_type": "display_data"
    }
   ],
   "source": [
    "plt.figure(figsize=(25,10))\n",
    "sns.barplot(x =data['bp'],y =data['classification'],data=data)\n",
    "plt.show()\n"
   ]
  },
  {
   "cell_type": "code",
   "execution_count": 117,
   "id": "95c44963",
   "metadata": {},
   "outputs": [
    {
     "name": "stderr",
     "output_type": "stream",
     "text": [
      "C:\\Users\\MAHESH\\ansel\\lib\\site-packages\\seaborn\\categorical.py:1296: UserWarning: 21.3% of the points cannot be placed; you may want to decrease the size of the markers or use stripplot.\n",
      "  warnings.warn(msg, UserWarning)\n",
      "C:\\Users\\MAHESH\\ansel\\lib\\site-packages\\seaborn\\categorical.py:1296: UserWarning: 24.4% of the points cannot be placed; you may want to decrease the size of the markers or use stripplot.\n",
      "  warnings.warn(msg, UserWarning)\n"
     ]
    },
    {
     "data": {
      "text/plain": [
       "<Figure size 720x720 with 0 Axes>"
      ]
     },
     "execution_count": 117,
     "metadata": {},
     "output_type": "execute_result"
    },
    {
     "data": {
      "image/png": "[encoded data removed]",
      "text/plain": [
       "<Figure size 720x720 with 1 Axes>"
      ]
     },
     "metadata": {
      "needs_background": "light"
     },
     "output_type": "display_data"
    },
    {
     "data": {
      "image/png": "[encoded data removed]",
      "text/plain": [
       "<Figure size 720x720 with 1 Axes>"
      ]
     },
     "metadata": {
      "needs_background": "light"
     },
     "output_type": "display_data"
    },
    {
     "data": {
      "text/plain": [
       "<Figure size 720x720 with 0 Axes>"
      ]
     },
     "metadata": {},
     "output_type": "display_data"
    }
   ],
   "source": [
    "plt.figure(figsize=(10,10))\n",
    "sns.swarmplot(y=data[\"age\"], x = data[\"classification\"],linewidth=0.5,edgecolor='green')\n",
    "plt.figure(figsize=(10,10))\n",
    "sns.swarmplot(y=data[\"bp\"], x = data[\"classification\"],linewidth=0.5,edgecolor='green')\n",
    "plt.figure(figsize=(10,10))\n",
    "# SIMILARLLY WE CAN CO RELATE THE GRAPHS BETWEEN REMAINING ATTRIBUTES AND CLASSIFICATION."
   ]
  },
  {
   "cell_type": "code",
   "execution_count": 118,
   "id": "4d2671f6",
   "metadata": {},
   "outputs": [
    {
     "data": {
      "text/plain": [
       "good    317\n",
       "poor     82\n",
       "Name: appet, dtype: int64"
      ]
     },
     "execution_count": 118,
     "metadata": {},
     "output_type": "execute_result"
    }
   ],
   "source": [
    "data[\"appet\"].value_counts()"
   ]
  },
  {
   "cell_type": "code",
   "execution_count": 119,
   "id": "f0a70199",
   "metadata": {},
   "outputs": [
    {
     "data": {
      "image/png": "[encoded data removed]",
      "text/plain": [
       "<Figure size 504x504 with 1 Axes>"
      ]
     },
     "metadata": {
      "needs_background": "light"
     },
     "output_type": "display_data"
    }
   ],
   "source": [
    "plt.figure(figsize=(7,7))\n",
    "sns.barplot(x =data['appet'],y =data['classification'],data=data)\n",
    "plt.show()"
   ]
  },
  {
   "cell_type": "code",
   "execution_count": 120,
   "id": "28fb2d95",
   "metadata": {},
   "outputs": [],
   "source": [
    "data.replace({\"good\":1,\"poor\":0},inplace=True)"
   ]
  },
  {
   "cell_type": "code",
   "execution_count": 121,
   "id": "1c05b9b6",
   "metadata": {},
   "outputs": [
    {
     "data": {
      "text/plain": [
       "no     339\n",
       "yes     60\n",
       "Name: ane, dtype: int64"
      ]
     },
     "execution_count": 121,
     "metadata": {},
     "output_type": "execute_result"
    }
   ],
   "source": [
    "data[\"ane\"].value_counts()"
   ]
  },
  {
   "cell_type": "code",
   "execution_count": 122,
   "id": "edf466fd",
   "metadata": {},
   "outputs": [],
   "source": [
    "data.replace({\"no\":0,\"yes\":1,\"\\tno\":0,\"\\tyes\":1,\" yes\":1},inplace=True)"
   ]
  },
  {
   "cell_type": "code",
   "execution_count": 123,
   "id": "3a9736f4",
   "metadata": {},
   "outputs": [
    {
     "data": {
      "text/plain": [
       "age                 0\n",
       "bp                  0\n",
       "sg                  0\n",
       "al                  0\n",
       "su                  0\n",
       "bgr                 0\n",
       "bu                  0\n",
       "sc                  0\n",
       "sod                 0\n",
       "pot                 0\n",
       "hemo                0\n",
       "pcv                 0\n",
       "wc                  0\n",
       "rc                  0\n",
       "htn                 2\n",
       "dm                  2\n",
       "cad                 2\n",
       "appet               1\n",
       "pe                  1\n",
       "ane                 1\n",
       "classification      0\n",
       "rbc               152\n",
       "pc                 65\n",
       "pcc                 4\n",
       "ba                  4\n",
       "dtype: int64"
      ]
     },
     "execution_count": 123,
     "metadata": {},
     "output_type": "execute_result"
    }
   ],
   "source": [
    "data.isnull().sum()"
   ]
  },
  {
   "cell_type": "code",
   "execution_count": 124,
   "id": "d93970d0",
   "metadata": {},
   "outputs": [
    {
     "name": "stdout",
     "output_type": "stream",
     "text": [
      "<class 'pandas.core.frame.DataFrame'>\n",
      "RangeIndex: 400 entries, 0 to 399\n",
      "Data columns (total 25 columns):\n",
      " #   Column          Non-Null Count  Dtype  \n",
      "---  ------          --------------  -----  \n",
      " 0   age             400 non-null    float64\n",
      " 1   bp              400 non-null    float64\n",
      " 2   sg              400 non-null    float64\n",
      " 3   al              400 non-null    float64\n",
      " 4   su              400 non-null    float64\n",
      " 5   bgr             400 non-null    float64\n",
      " 6   bu              400 non-null    float64\n",
      " 7   sc              400 non-null    float64\n",
      " 8   sod             400 non-null    float64\n",
      " 9   pot             400 non-null    float64\n",
      " 10  hemo            400 non-null    float64\n",
      " 11  pcv             400 non-null    float64\n",
      " 12  wc              400 non-null    float64\n",
      " 13  rc              400 non-null    float64\n",
      " 14  htn             398 non-null    float64\n",
      " 15  dm              398 non-null    float64\n",
      " 16  cad             398 non-null    float64\n",
      " 17  appet           399 non-null    float64\n",
      " 18  pe              399 non-null    float64\n",
      " 19  ane             399 non-null    float64\n",
      " 20  classification  400 non-null    int64  \n",
      " 21  rbc             248 non-null    float64\n",
      " 22  pc              335 non-null    float64\n",
      " 23  pcc             396 non-null    float64\n",
      " 24  ba              396 non-null    float64\n",
      "dtypes: float64(24), int64(1)\n",
      "memory usage: 78.2 KB\n"
     ]
    }
   ],
   "source": [
    "data.info()"
   ]
  },
  {
   "cell_type": "code",
   "execution_count": 125,
   "id": "199d52d0",
   "metadata": {},
   "outputs": [],
   "source": [
    "data=data.apply(lambda x:x.fillna(x.value_counts().index[0]))"
   ]
  },
  {
   "cell_type": "code",
   "execution_count": 126,
   "id": "d99d1ad9",
   "metadata": {},
   "outputs": [
    {
     "name": "stdout",
     "output_type": "stream",
     "text": [
      "<class 'pandas.core.frame.DataFrame'>\n",
      "RangeIndex: 400 entries, 0 to 399\n",
      "Data columns (total 25 columns):\n",
      " #   Column          Non-Null Count  Dtype  \n",
      "---  ------          --------------  -----  \n",
      " 0   age             400 non-null    float64\n",
      " 1   bp              400 non-null    float64\n",
      " 2   sg              400 non-null    float64\n",
      " 3   al              400 non-null    float64\n",
      " 4   su              400 non-null    float64\n",
      " 5   bgr             400 non-null    float64\n",
      " 6   bu              400 non-null    float64\n",
      " 7   sc              400 non-null    float64\n",
      " 8   sod             400 non-null    float64\n",
      " 9   pot             400 non-null    float64\n",
      " 10  hemo            400 non-null    float64\n",
      " 11  pcv             400 non-null    float64\n",
      " 12  wc              400 non-null    float64\n",
      " 13  rc              400 non-null    float64\n",
      " 14  htn             400 non-null    float64\n",
      " 15  dm              400 non-null    float64\n",
      " 16  cad             400 non-null    float64\n",
      " 17  appet           400 non-null    float64\n",
      " 18  pe              400 non-null    float64\n",
      " 19  ane             400 non-null    float64\n",
      " 20  classification  400 non-null    int64  \n",
      " 21  rbc             400 non-null    float64\n",
      " 22  pc              400 non-null    float64\n",
      " 23  pcc             400 non-null    float64\n",
      " 24  ba              400 non-null    float64\n",
      "dtypes: float64(24), int64(1)\n",
      "memory usage: 78.2 KB\n"
     ]
    }
   ],
   "source": [
    "data.info()\n"
   ]
  },
  {
   "cell_type": "code",
   "execution_count": 127,
   "id": "d681e8b4",
   "metadata": {},
   "outputs": [],
   "source": [
    "#Splitting Train Data and Test Data"
   ]
  },
  {
   "cell_type": "code",
   "execution_count": 128,
   "id": "37d15a42",
   "metadata": {},
   "outputs": [
    {
     "data": {
      "text/plain": [
       "Index(['age', 'bp', 'sg', 'al', 'su', 'bgr', 'bu', 'sc', 'sod', 'pot', 'hemo',\n",
       "       'pcv', 'wc', 'rc', 'htn', 'dm', 'cad', 'appet', 'pe', 'ane',\n",
       "       'classification', 'rbc', 'pc', 'pcc', 'ba'],\n",
       "      dtype='object')"
      ]
     },
     "execution_count": 128,
     "metadata": {},
     "output_type": "execute_result"
    }
   ],
   "source": [
    "data.columns"
   ]
  },
  {
   "cell_type": "code",
   "execution_count": 129,
   "id": "d9abcd00",
   "metadata": {},
   "outputs": [],
   "source": [
    "X = data.loc[:,['age', 'bp','sc','rc','wc','appet','pc','htn','hemo','bgr','dm','ane']]\n",
    "y = data[\"classification\"]\n",
    "#X = data.loc[:, data.columns != 'classification']\n",
    "#y = data['classification']"
   ]
  },
  {
   "cell_type": "code",
   "execution_count": 130,
   "id": "4fc1c944",
   "metadata": {},
   "outputs": [
    {
     "data": {
      "text/html": [
       "<div>\n",
       "<style scoped>\n",
       "    .dataframe tbody tr th:only-of-type {\n",
       "        vertical-align: middle;\n",
       "    }\n",
       "\n",
       "    .dataframe tbody tr th {\n",
       "        vertical-align: top;\n",
       "    }\n",
       "\n",
       "    .dataframe thead th {\n",
       "        text-align: right;\n",
       "    }\n",
       "</style>\n",
       "<table border=\"1\" class=\"dataframe\">\n",
       "  <thead>\n",
       "    <tr style=\"text-align: right;\">\n",
       "      <th></th>\n",
       "      <th>age</th>\n",
       "      <th>bp</th>\n",
       "      <th>sc</th>\n",
       "      <th>rc</th>\n",
       "      <th>wc</th>\n",
       "      <th>appet</th>\n",
       "      <th>pc</th>\n",
       "      <th>htn</th>\n",
       "      <th>hemo</th>\n",
       "      <th>bgr</th>\n",
       "      <th>dm</th>\n",
       "      <th>ane</th>\n",
       "    </tr>\n",
       "  </thead>\n",
       "  <tbody>\n",
       "    <tr>\n",
       "      <th>252</th>\n",
       "      <td>45.0</td>\n",
       "      <td>80.0</td>\n",
       "      <td>0.6</td>\n",
       "      <td>4.000000</td>\n",
       "      <td>9100.000000</td>\n",
       "      <td>1.0</td>\n",
       "      <td>1.0</td>\n",
       "      <td>0.0</td>\n",
       "      <td>15.900000</td>\n",
       "      <td>82.0</td>\n",
       "      <td>0.0</td>\n",
       "      <td>0.0</td>\n",
       "    </tr>\n",
       "    <tr>\n",
       "      <th>230</th>\n",
       "      <td>65.0</td>\n",
       "      <td>60.0</td>\n",
       "      <td>1.7</td>\n",
       "      <td>4.241636</td>\n",
       "      <td>9500.000000</td>\n",
       "      <td>0.0</td>\n",
       "      <td>0.0</td>\n",
       "      <td>1.0</td>\n",
       "      <td>12.526437</td>\n",
       "      <td>192.0</td>\n",
       "      <td>1.0</td>\n",
       "      <td>0.0</td>\n",
       "    </tr>\n",
       "    <tr>\n",
       "      <th>152</th>\n",
       "      <td>39.0</td>\n",
       "      <td>70.0</td>\n",
       "      <td>0.8</td>\n",
       "      <td>4.241636</td>\n",
       "      <td>8406.122449</td>\n",
       "      <td>1.0</td>\n",
       "      <td>1.0</td>\n",
       "      <td>0.0</td>\n",
       "      <td>10.900000</td>\n",
       "      <td>121.0</td>\n",
       "      <td>1.0</td>\n",
       "      <td>0.0</td>\n",
       "    </tr>\n",
       "    <tr>\n",
       "      <th>386</th>\n",
       "      <td>46.0</td>\n",
       "      <td>70.0</td>\n",
       "      <td>0.5</td>\n",
       "      <td>6.000000</td>\n",
       "      <td>5700.000000</td>\n",
       "      <td>1.0</td>\n",
       "      <td>1.0</td>\n",
       "      <td>0.0</td>\n",
       "      <td>16.400000</td>\n",
       "      <td>100.0</td>\n",
       "      <td>0.0</td>\n",
       "      <td>0.0</td>\n",
       "    </tr>\n",
       "    <tr>\n",
       "      <th>302</th>\n",
       "      <td>29.0</td>\n",
       "      <td>70.0</td>\n",
       "      <td>1.2</td>\n",
       "      <td>4.241636</td>\n",
       "      <td>8406.122449</td>\n",
       "      <td>1.0</td>\n",
       "      <td>1.0</td>\n",
       "      <td>0.0</td>\n",
       "      <td>14.800000</td>\n",
       "      <td>127.0</td>\n",
       "      <td>0.0</td>\n",
       "      <td>0.0</td>\n",
       "    </tr>\n",
       "  </tbody>\n",
       "</table>\n",
       "</div>"
      ],
      "text/plain": [
       "      age    bp   sc        rc           wc  appet   pc  htn       hemo  \\\n",
       "252  45.0  80.0  0.6  4.000000  9100.000000    1.0  1.0  0.0  15.900000   \n",
       "230  65.0  60.0  1.7  4.241636  9500.000000    0.0  0.0  1.0  12.526437   \n",
       "152  39.0  70.0  0.8  4.241636  8406.122449    1.0  1.0  0.0  10.900000   \n",
       "386  46.0  70.0  0.5  6.000000  5700.000000    1.0  1.0  0.0  16.400000   \n",
       "302  29.0  70.0  1.2  4.241636  8406.122449    1.0  1.0  0.0  14.800000   \n",
       "\n",
       "       bgr   dm  ane  \n",
       "252   82.0  0.0  0.0  \n",
       "230  192.0  1.0  0.0  \n",
       "152  121.0  1.0  0.0  \n",
       "386  100.0  0.0  0.0  \n",
       "302  127.0  0.0  0.0  "
      ]
     },
     "execution_count": 130,
     "metadata": {},
     "output_type": "execute_result"
    }
   ],
   "source": [
    "# 'k' Values lies from 0.1 to 0.9, i.e the size of testing data in percentage.\n",
    "\n",
    "X_train,X_test,y_train,y_test = train_test_split(X,y,test_size=0.9,random_state = 80)\n",
    "X_train.head()"
   ]
  },
  {
   "cell_type": "code",
   "execution_count": 131,
   "id": "d4ec58d8",
   "metadata": {},
   "outputs": [
    {
     "data": {
      "text/plain": [
       "age               0\n",
       "bp                0\n",
       "sg                0\n",
       "al                0\n",
       "su                0\n",
       "bgr               0\n",
       "bu                0\n",
       "sc                0\n",
       "sod               0\n",
       "pot               0\n",
       "hemo              0\n",
       "pcv               0\n",
       "wc                0\n",
       "rc                0\n",
       "htn               0\n",
       "dm                0\n",
       "cad               0\n",
       "appet             0\n",
       "pe                0\n",
       "ane               0\n",
       "classification    0\n",
       "rbc               0\n",
       "pc                0\n",
       "pcc               0\n",
       "ba                0\n",
       "dtype: int64"
      ]
     },
     "execution_count": 131,
     "metadata": {},
     "output_type": "execute_result"
    }
   ],
   "source": [
    "data.isnull().sum()"
   ]
  },
  {
   "cell_type": "code",
   "execution_count": 132,
   "id": "5ec63c0d",
   "metadata": {},
   "outputs": [],
   "source": [
    "#USING SUPPORT VECTOR MACHINE"
   ]
  },
  {
   "cell_type": "code",
   "execution_count": 133,
   "id": "cd63ca35",
   "metadata": {},
   "outputs": [
    {
     "data": {
      "text/plain": [
       "SVC(kernel='linear')"
      ]
     },
     "execution_count": 133,
     "metadata": {},
     "output_type": "execute_result"
    }
   ],
   "source": [
    "model2 = SVC(C=1.0, kernel='linear', degree=3, gamma='scale', coef0=0.0, shrinking=True, \n",
    "             probability=False, tol=0.001, cache_size=200, class_weight=None, verbose=False, \n",
    "             max_iter=-1, decision_function_shape='ovr', break_ties=False, random_state=None)\n",
    "model2.fit(X_train,y_train)"
   ]
  },
  {
   "cell_type": "code",
   "execution_count": 134,
   "id": "8933f6b4",
   "metadata": {},
   "outputs": [
    {
     "name": "stdout",
     "output_type": "stream",
     "text": [
      "the mean absolute error is 0.06388888888888888\n"
     ]
    }
   ],
   "source": [
    "print(\"the mean absolute error is\",mean_absolute_error(y_test,model2.predict(X_test)))"
   ]
  },
  {
   "cell_type": "code",
   "execution_count": 135,
   "id": "914fff1e",
   "metadata": {},
   "outputs": [
    {
     "name": "stdout",
     "output_type": "stream",
     "text": [
      "the accuracy of the train data is  100.0\n"
     ]
    }
   ],
   "source": [
    "print(\"the accuracy of the train data is \",model2.score(X_train,y_train)*100)"
   ]
  },
  {
   "cell_type": "code",
   "execution_count": 136,
   "id": "3091e6df",
   "metadata": {},
   "outputs": [
    {
     "name": "stdout",
     "output_type": "stream",
     "text": [
      "the accuracy of the test data is 93.61111111111111\n"
     ]
    }
   ],
   "source": [
    "print(\"the accuracy of the test data is\",model2.score(X_test,y_test)*100)"
   ]
  },
  {
   "cell_type": "code",
   "execution_count": 137,
   "id": "040d9a4c",
   "metadata": {
    "scrolled": true
   },
   "outputs": [
    {
     "data": {
      "text/plain": [
       "Index(['age', 'bp', 'sg', 'al', 'su', 'bgr', 'bu', 'sc', 'sod', 'pot', 'hemo',\n",
       "       'pcv', 'wc', 'rc', 'htn', 'dm', 'cad', 'appet', 'pe', 'ane',\n",
       "       'classification', 'rbc', 'pc', 'pcc', 'ba'],\n",
       "      dtype='object')"
      ]
     },
     "execution_count": 137,
     "metadata": {},
     "output_type": "execute_result"
    }
   ],
   "source": [
    "data.columns"
   ]
  },
  {
   "cell_type": "code",
   "execution_count": 138,
   "id": "d241e827",
   "metadata": {
    "scrolled": false
   },
   "outputs": [
    {
     "name": "stderr",
     "output_type": "stream",
     "text": [
      "C:\\Users\\MAHESH\\ansel\\lib\\site-packages\\sklearn\\base.py:450: UserWarning: X does not have valid feature names, but SVC was fitted with feature names\n",
      "  warnings.warn(\n"
     ]
    },
    {
     "data": {
      "text/plain": [
       "array([1], dtype=int64)"
      ]
     },
     "execution_count": 138,
     "metadata": {},
     "output_type": "execute_result"
    }
   ],
   "source": [
    "model2.predict([[148.0,700.0,1.7,5.9000,1300.000000,1.0,1.0,1.0,16.000000,94.000000,1.0,1.0]])\n",
    "#notckd=0\n",
    "#ckd=1"
   ]
  },
  {
   "cell_type": "code",
   "execution_count": 139,
   "id": "c09d7938",
   "metadata": {},
   "outputs": [],
   "source": [
    "#LOGISTIC REGRESSION"
   ]
  },
  {
   "cell_type": "code",
   "execution_count": 140,
   "id": "4fff16bc",
   "metadata": {},
   "outputs": [],
   "source": [
    "min_max = MinMaxScaler()\n",
    "min_max.fit(X)\n",
    "X = min_max.transform(X)"
   ]
  },
  {
   "cell_type": "code",
   "execution_count": 141,
   "id": "52d906c8",
   "metadata": {},
   "outputs": [],
   "source": [
    "X_train, X_test, y_train, y_test = train_test_split(X, y, test_size=0.9, random_state=30)"
   ]
  },
  {
   "cell_type": "code",
   "execution_count": 142,
   "id": "78128433",
   "metadata": {},
   "outputs": [
    {
     "name": "stdout",
     "output_type": "stream",
     "text": [
      "[0.8 0.7 0.8 0.8]\n",
      "0.043301270189221974\n",
      "0.7749999999999999\n"
     ]
    }
   ],
   "source": [
    "log = LogisticRegression(penalty='l2',dual=False, tol=0.9, C=1.0, fit_intercept=True, \n",
    "                         intercept_scaling=1, class_weight=None, random_state=None, \n",
    "                         solver='lbfgs', max_iter=100, multi_class='auto', verbose=0, \n",
    "                         warm_start=False, n_jobs=None, l1_ratio=None)\n",
    "cv_v = cross_val_score(log, X_train, y_train, cv=4)\n",
    "print(cv_v)\n",
    "print(cv_v.std())\n",
    "print(cv_v.mean())"
   ]
  },
  {
   "cell_type": "code",
   "execution_count": 143,
   "id": "60901c79",
   "metadata": {},
   "outputs": [
    {
     "data": {
      "text/plain": [
       "LogisticRegression(tol=0.9)"
      ]
     },
     "execution_count": 143,
     "metadata": {},
     "output_type": "execute_result"
    }
   ],
   "source": [
    "log.fit(X_train,y_train)"
   ]
  },
  {
   "cell_type": "code",
   "execution_count": 144,
   "id": "67c04738",
   "metadata": {},
   "outputs": [
    {
     "name": "stdout",
     "output_type": "stream",
     "text": [
      "              precision    recall  f1-score   support\n",
      "\n",
      "           0       0.73      1.00      0.84       131\n",
      "           1       1.00      0.79      0.88       229\n",
      "\n",
      "    accuracy                           0.86       360\n",
      "   macro avg       0.86      0.89      0.86       360\n",
      "weighted avg       0.90      0.86      0.87       360\n",
      "\n"
     ]
    }
   ],
   "source": [
    "y_pred = log.predict(X_test)\n",
    "print(classification_report(y_test,y_pred))"
   ]
  },
  {
   "cell_type": "code",
   "execution_count": 145,
   "id": "549c5236",
   "metadata": {},
   "outputs": [
    {
     "data": {
      "text/plain": [
       "array([1], dtype=int64)"
      ]
     },
     "execution_count": 145,
     "metadata": {},
     "output_type": "execute_result"
    }
   ],
   "source": [
    "log.predict([[66.0,70.0,1.7,5.900000,5300.000000,1.0,0.0,0.0,16.000000,94.000000,0.0,0.0]])"
   ]
  },
  {
   "cell_type": "code",
   "execution_count": 146,
   "id": "7434967c",
   "metadata": {},
   "outputs": [],
   "source": [
    "#RANDOM FOREST ALGORITHM"
   ]
  },
  {
   "cell_type": "code",
   "execution_count": 147,
   "id": "012db655",
   "metadata": {},
   "outputs": [
    {
     "data": {
      "text/plain": [
       "RandomForestClassifier(criterion='entropy', max_features='log2',\n",
       "                       min_samples_leaf=2, n_estimators=500)"
      ]
     },
     "execution_count": 147,
     "metadata": {},
     "output_type": "execute_result"
    }
   ],
   "source": [
    "indo = RandomForestClassifier(n_estimators=500, criterion='entropy', \n",
    "                              max_depth=None, min_samples_split=2, min_samples_leaf=2, \n",
    "                              min_weight_fraction_leaf=0.0, max_features='log2', max_leaf_nodes=None, \n",
    "                              min_impurity_decrease=0.0, bootstrap=True, oob_score=False, n_jobs=None, \n",
    "                              random_state=None, verbose=0, warm_start=False, class_weight=None, \n",
    "                              ccp_alpha=0.0, max_samples=None)\n",
    "indo.fit(X_train,y_train)"
   ]
  },
  {
   "cell_type": "code",
   "execution_count": 148,
   "id": "ac4e96de",
   "metadata": {},
   "outputs": [],
   "source": [
    "predictions = indo.predict(X_test)"
   ]
  },
  {
   "cell_type": "code",
   "execution_count": 149,
   "id": "6c8bc97b",
   "metadata": {},
   "outputs": [
    {
     "name": "stdout",
     "output_type": "stream",
     "text": [
      "The mean absolute error by using the RandomForest is 0.05555555555555555\n"
     ]
    }
   ],
   "source": [
    "print(\"The mean absolute error by using the RandomForest is\",mean_absolute_error(y_test,predictions))"
   ]
  },
  {
   "cell_type": "code",
   "execution_count": 150,
   "id": "58a0f921",
   "metadata": {},
   "outputs": [
    {
     "name": "stdout",
     "output_type": "stream",
     "text": [
      "the accuracy of the train data is  100.0\n"
     ]
    }
   ],
   "source": [
    "print(\"the accuracy of the train data is \",indo.score(X_train,y_train)*100)"
   ]
  },
  {
   "cell_type": "code",
   "execution_count": 151,
   "id": "7f331ee0",
   "metadata": {},
   "outputs": [
    {
     "name": "stdout",
     "output_type": "stream",
     "text": [
      "the accuracy of the test data is 94.44444444444444\n"
     ]
    }
   ],
   "source": [
    "print(\"the accuracy of the test data is\",indo.score(X_test,y_test)*100)"
   ]
  },
  {
   "cell_type": "code",
   "execution_count": 152,
   "id": "e67facd5",
   "metadata": {},
   "outputs": [
    {
     "data": {
      "text/plain": [
       "array([0], dtype=int64)"
      ]
     },
     "execution_count": 152,
     "metadata": {},
     "output_type": "execute_result"
    }
   ],
   "source": [
    "indo.predict([[66.0,70.0,1.8,5.900000,5300.000000,0.0,0.0,0.0,16.000000,94.000000,0.0,0.0]])"
   ]
  },
  {
   "cell_type": "code",
   "execution_count": 153,
   "id": "3304b312",
   "metadata": {},
   "outputs": [
    {
     "name": "stdout",
     "output_type": "stream",
     "text": [
      "              precision    recall  f1-score   support\n",
      "\n",
      "           0       0.91      0.95      0.93       131\n",
      "           1       0.97      0.94      0.96       229\n",
      "\n",
      "    accuracy                           0.94       360\n",
      "   macro avg       0.94      0.94      0.94       360\n",
      "weighted avg       0.95      0.94      0.94       360\n",
      "\n"
     ]
    }
   ],
   "source": [
    "print(classification_report(y_test,predictions))"
   ]
  },
  {
   "cell_type": "code",
   "execution_count": 154,
   "id": "46754f58",
   "metadata": {},
   "outputs": [],
   "source": [
    "predictions1=indo.predict(X_train)"
   ]
  },
  {
   "cell_type": "code",
   "execution_count": 155,
   "id": "f25eb306",
   "metadata": {},
   "outputs": [
    {
     "name": "stdout",
     "output_type": "stream",
     "text": [
      "              precision    recall  f1-score   support\n",
      "\n",
      "           0       1.00      1.00      1.00        19\n",
      "           1       1.00      1.00      1.00        21\n",
      "\n",
      "    accuracy                           1.00        40\n",
      "   macro avg       1.00      1.00      1.00        40\n",
      "weighted avg       1.00      1.00      1.00        40\n",
      "\n"
     ]
    }
   ],
   "source": [
    "print(classification_report(y_train,predictions1))"
   ]
  },
  {
   "cell_type": "code",
   "execution_count": 156,
   "id": "b1445f65",
   "metadata": {},
   "outputs": [
    {
     "data": {
      "text/plain": [
       "array([[124,   7],\n",
       "       [ 13, 216]], dtype=int64)"
      ]
     },
     "execution_count": 156,
     "metadata": {},
     "output_type": "execute_result"
    }
   ],
   "source": [
    "confusion_matrix(y_test,predictions)"
   ]
  },
  {
   "cell_type": "code",
   "execution_count": 157,
   "id": "6196ef88",
   "metadata": {},
   "outputs": [
    {
     "data": {
      "text/plain": [
       "array([[19,  0],\n",
       "       [ 0, 21]], dtype=int64)"
      ]
     },
     "execution_count": 157,
     "metadata": {},
     "output_type": "execute_result"
    }
   ],
   "source": [
    "confusion_matrix(y_train,predictions1)"
   ]
  },
  {
   "cell_type": "code",
   "execution_count": 158,
   "id": "f5c3827d",
   "metadata": {},
   "outputs": [
    {
     "data": {
      "image/png": "[encoded data removed]",
      "text/plain": [
       "<Figure size 432x360 with 1 Axes>"
      ]
     },
     "metadata": {
      "needs_background": "light"
     },
     "output_type": "display_data"
    }
   ],
   "source": [
    "import numpy as np\n",
    "import matplotlib.pyplot as plt\n",
    " \n",
    "  \n",
    "# creating the dataset\n",
    "data = {'SVM':97.5, 'RFA':100, 'LR':91}\n",
    "courses = list(data.keys())\n",
    "values = list(data.values())\n",
    "  \n",
    "fig = plt.figure(figsize = (6, 5))\n",
    " \n",
    "# creating the bar plot\n",
    "plt.bar(courses, values, color ='blue',\n",
    "        width = 0.2)\n",
    " \n",
    "plt.xlabel(\"DIFFERENT ALGORITHMS\")\n",
    "plt.ylabel(\"ACCURACY PERCENTAGE % OF TEST DATA\")\n",
    "plt.title(\"COMPARISION OF DIFFERENT ML ALGORITHMS\")\n",
    "plt.show()"
   ]
  },
  {
   "cell_type": "code",
   "execution_count": 159,
   "id": "400d835b",
   "metadata": {},
   "outputs": [
    {
     "data": {
      "image/png": "[encoded data removed]",
      "text/plain": [
       "<Figure size 432x288 with 1 Axes>"
      ]
     },
     "metadata": {
      "needs_background": "light"
     },
     "output_type": "display_data"
    }
   ],
   "source": [
    "import matplotlib.pyplot as plt\n",
    "\n",
    "x=[\"RFA\", \"SVM\", \"LR\", \"DTR\", \"ANN\"]\n",
    "y=[100,97.5,91,98,97]\n",
    "\n",
    "plt.xlabel(\"DIFFERENT ALGORITHMS\")\n",
    "plt.ylabel(\"ACCURACY PERCENTAGE % OF TEST DATA\")\n",
    "plt.title(\"COMPARISION OF DIFFERENT ML ALGORITHMS\")\n",
    "plt.plot(x,y)\n",
    "plt.show()"
   ]
  },
  {
   "cell_type": "code",
   "execution_count": 160,
   "id": "aeb6cc41",
   "metadata": {},
   "outputs": [],
   "source": [
    "#DECISION TREE REGRESSION\n",
    "from sklearn.tree import DecisionTreeRegressor"
   ]
  },
  {
   "cell_type": "code",
   "execution_count": 161,
   "id": "95f2b970",
   "metadata": {},
   "outputs": [
    {
     "data": {
      "text/plain": [
       "DecisionTreeRegressor()"
      ]
     },
     "execution_count": 161,
     "metadata": {},
     "output_type": "execute_result"
    }
   ],
   "source": [
    "model1=DecisionTreeRegressor()\n",
    "model1.fit(X_train,y_train)"
   ]
  },
  {
   "cell_type": "code",
   "execution_count": 162,
   "id": "29e30789",
   "metadata": {},
   "outputs": [
    {
     "data": {
      "text/plain": [
       "array([1., 0., 0., 1., 0., 0., 1., 0., 1., 1., 1., 1., 1., 1., 1., 1., 1.,\n",
       "       1., 0., 0., 1., 1., 1., 0., 1., 1., 0., 1., 1., 1., 1., 1., 1., 1.,\n",
       "       1., 0., 1., 0., 0., 1., 1., 0., 0., 0., 1., 1., 1., 0., 0., 1., 1.,\n",
       "       1., 0., 1., 0., 1., 1., 0., 1., 1., 0., 1., 1., 0., 1., 1., 0., 1.,\n",
       "       1., 0., 0., 0., 0., 0., 1., 1., 1., 1., 0., 0., 0., 1., 1., 0., 0.,\n",
       "       1., 0., 1., 1., 1., 1., 1., 1., 1., 0., 0., 1., 0., 0., 1., 0., 1.,\n",
       "       1., 1., 1., 0., 1., 1., 0., 0., 1., 1., 0., 0., 1., 1., 0., 1., 1.,\n",
       "       1., 1., 1., 0., 0., 1., 1., 0., 1., 0., 1., 0., 1., 1., 0., 0., 1.,\n",
       "       1., 1., 1., 1., 1., 0., 1., 1., 1., 0., 0., 1., 1., 1., 1., 0., 1.,\n",
       "       1., 0., 1., 1., 1., 1., 1., 0., 0., 0., 1., 1., 1., 1., 1., 0., 1.,\n",
       "       1., 1., 1., 1., 0., 1., 0., 1., 1., 0., 1., 1., 1., 1., 1., 0., 0.,\n",
       "       1., 0., 1., 1., 1., 0., 1., 1., 1., 0., 0., 1., 1., 0., 0., 1., 0.,\n",
       "       1., 1., 1., 1., 1., 0., 1., 0., 1., 1., 0., 1., 0., 0., 1., 1., 1.,\n",
       "       1., 1., 1., 1., 0., 1., 1., 1., 0., 1., 1., 1., 1., 0., 1., 1., 0.,\n",
       "       1., 0., 1., 1., 0., 0., 1., 0., 1., 0., 0., 0., 1., 0., 1., 0., 0.,\n",
       "       0., 1., 1., 1., 1., 1., 1., 0., 1., 1., 1., 0., 0., 0., 0., 1., 0.,\n",
       "       0., 1., 1., 0., 0., 0., 0., 0., 0., 1., 1., 0., 0., 1., 1., 0., 0.,\n",
       "       1., 1., 1., 0., 1., 1., 1., 1., 1., 1., 0., 0., 0., 1., 1., 0., 1.,\n",
       "       1., 0., 1., 0., 1., 0., 0., 1., 1., 0., 0., 1., 0., 0., 1., 1., 0.,\n",
       "       1., 1., 1., 0., 1., 1., 1., 0., 0., 1., 0., 0., 1., 1., 1., 1., 1.,\n",
       "       0., 0., 1., 1., 1., 1., 1., 1., 0., 0., 1., 0., 0., 1., 1., 1., 1.,\n",
       "       0., 0., 1.])"
      ]
     },
     "execution_count": 162,
     "metadata": {},
     "output_type": "execute_result"
    }
   ],
   "source": [
    "y1_pred=model1.predict(X_test)\n",
    "y1_pred"
   ]
  },
  {
   "cell_type": "code",
   "execution_count": 163,
   "id": "f593816e",
   "metadata": {},
   "outputs": [
    {
     "data": {
      "text/plain": [
       "100.0"
      ]
     },
     "execution_count": 163,
     "metadata": {},
     "output_type": "execute_result"
    }
   ],
   "source": [
    "model1.score(X_train,y_train)*100"
   ]
  },
  {
   "cell_type": "code",
   "execution_count": 164,
   "id": "ed53ea15",
   "metadata": {},
   "outputs": [
    {
     "data": {
      "text/plain": [
       "100.0"
      ]
     },
     "execution_count": 164,
     "metadata": {},
     "output_type": "execute_result"
    }
   ],
   "source": [
    "model1.score(X_test,y1_pred)*100"
   ]
  },
  {
   "cell_type": "code",
   "execution_count": 165,
   "id": "2982e893",
   "metadata": {},
   "outputs": [],
   "source": [
    "from sklearn.metrics import confusion_matrix"
   ]
  },
  {
   "cell_type": "code",
   "execution_count": 166,
   "id": "03b12213",
   "metadata": {},
   "outputs": [
    {
     "data": {
      "text/plain": [
       "array([[125,   6],\n",
       "       [ 12, 217]], dtype=int64)"
      ]
     },
     "execution_count": 166,
     "metadata": {},
     "output_type": "execute_result"
    }
   ],
   "source": [
    "confusion_matrix(y_test,y1_pred)"
   ]
  },
  {
   "cell_type": "code",
   "execution_count": 167,
   "id": "6e853d4b",
   "metadata": {},
   "outputs": [
    {
     "name": "stdout",
     "output_type": "stream",
     "text": [
      "              precision    recall  f1-score   support\n",
      "\n",
      "           0       0.91      0.95      0.93       131\n",
      "           1       0.97      0.95      0.96       229\n",
      "\n",
      "    accuracy                           0.95       360\n",
      "   macro avg       0.94      0.95      0.95       360\n",
      "weighted avg       0.95      0.95      0.95       360\n",
      "\n"
     ]
    }
   ],
   "source": [
    "print(classification_report(y_test,y1_pred))"
   ]
  },
  {
   "cell_type": "code",
   "execution_count": 168,
   "id": "49418817",
   "metadata": {},
   "outputs": [],
   "source": [
    "prediction2=model1.predict(X_train)"
   ]
  },
  {
   "cell_type": "code",
   "execution_count": 169,
   "id": "fa7a0c83",
   "metadata": {},
   "outputs": [
    {
     "data": {
      "text/plain": [
       "array([[19,  0],\n",
       "       [ 0, 21]], dtype=int64)"
      ]
     },
     "execution_count": 169,
     "metadata": {},
     "output_type": "execute_result"
    }
   ],
   "source": [
    "confusion_matrix(y_train,prediction2)"
   ]
  },
  {
   "cell_type": "code",
   "execution_count": 170,
   "id": "03993337",
   "metadata": {},
   "outputs": [],
   "source": [
    "#ARTIFICIAL NEURAL NETWORK"
   ]
  },
  {
   "cell_type": "code",
   "execution_count": 171,
   "id": "ae861abf",
   "metadata": {},
   "outputs": [],
   "source": [
    "import tensorflow\n",
    "from tensorflow import keras\n",
    "from tensorflow.keras.metrics import BinaryCrossentropy\n",
    "from tensorflow.keras.optimizers import Adam\n",
    "from tensorflow.keras.layers import Dense\n",
    "from tensorflow.keras import Sequential\n",
    "from tensorflow.keras.activations import relu"
   ]
  },
  {
   "cell_type": "code",
   "execution_count": 172,
   "id": "e2ac72a2",
   "metadata": {},
   "outputs": [],
   "source": [
    "model5=Sequential()\n",
    "\n",
    "model5.add(Dense(64,activation=\"relu\",input_dim=12))\n",
    "\n",
    "model5.add(Dense(32,activation=\"relu\"))\n",
    "\n",
    "model5.add(Dense(16,activation=\"relu\"))\n",
    "\n",
    "model5.add(Dense(1,activation=\"sigmoid\"))"
   ]
  },
  {
   "cell_type": "code",
   "execution_count": 173,
   "id": "07f7349d",
   "metadata": {},
   "outputs": [],
   "source": [
    "model5.compile(loss=\"binary_crossentropy\",optimizer=\"Adam\",metrics=['accuracy'])"
   ]
  },
  {
   "cell_type": "code",
   "execution_count": 174,
   "id": "7061d077",
   "metadata": {
    "scrolled": true
   },
   "outputs": [
    {
     "name": "stdout",
     "output_type": "stream",
     "text": [
      "Epoch 1/100\n",
      "2/2 [==============================] - 1s 14ms/step - loss: 0.6915 - accuracy: 0.6750\n",
      "Epoch 2/100\n",
      "2/2 [==============================] - 0s 2ms/step - loss: 0.6809 - accuracy: 0.7500\n",
      "Epoch 3/100\n",
      "2/2 [==============================] - 0s 9ms/step - loss: 0.6740 - accuracy: 0.7750\n",
      "Epoch 4/100\n",
      "2/2 [==============================] - 0s 8ms/step - loss: 0.6684 - accuracy: 0.7250\n",
      "Epoch 5/100\n",
      "2/2 [==============================] - 0s 9ms/step - loss: 0.6626 - accuracy: 0.7750\n",
      "Epoch 6/100\n",
      "2/2 [==============================] - 0s 8ms/step - loss: 0.6577 - accuracy: 0.7750\n",
      "Epoch 7/100\n",
      "2/2 [==============================] - 0s 8ms/step - loss: 0.6533 - accuracy: 0.7750\n",
      "Epoch 8/100\n",
      "2/2 [==============================] - 0s 7ms/step - loss: 0.6482 - accuracy: 0.8000\n",
      "Epoch 9/100\n",
      "2/2 [==============================] - 0s 6ms/step - loss: 0.6437 - accuracy: 0.8000\n",
      "Epoch 10/100\n",
      "2/2 [==============================] - 0s 6ms/step - loss: 0.6383 - accuracy: 0.8250\n",
      "Epoch 11/100\n",
      "2/2 [==============================] - 0s 6ms/step - loss: 0.6329 - accuracy: 0.8250\n",
      "Epoch 12/100\n",
      "2/2 [==============================] - 0s 5ms/step - loss: 0.6280 - accuracy: 0.8250\n",
      "Epoch 13/100\n",
      "2/2 [==============================] - 0s 6ms/step - loss: 0.6224 - accuracy: 0.8250\n",
      "Epoch 14/100\n",
      "2/2 [==============================] - 0s 4ms/step - loss: 0.6164 - accuracy: 0.8250\n",
      "Epoch 15/100\n",
      "2/2 [==============================] - 0s 3ms/step - loss: 0.6092 - accuracy: 0.8250\n",
      "Epoch 16/100\n",
      "2/2 [==============================] - 0s 3ms/step - loss: 0.6022 - accuracy: 0.8250\n",
      "Epoch 17/100\n",
      "2/2 [==============================] - 0s 7ms/step - loss: 0.5949 - accuracy: 0.8250\n",
      "Epoch 18/100\n",
      "2/2 [==============================] - 0s 9ms/step - loss: 0.5869 - accuracy: 0.8250\n",
      "Epoch 19/100\n",
      "2/2 [==============================] - 0s 8ms/step - loss: 0.5784 - accuracy: 0.8250\n",
      "Epoch 20/100\n",
      "2/2 [==============================] - 0s 8ms/step - loss: 0.5691 - accuracy: 0.8250\n",
      "Epoch 21/100\n",
      "2/2 [==============================] - 0s 0s/step - loss: 0.5603 - accuracy: 0.8250\n",
      "Epoch 22/100\n",
      "2/2 [==============================] - 0s 0s/step - loss: 0.5512 - accuracy: 0.8250\n",
      "Epoch 23/100\n",
      "2/2 [==============================] - 0s 0s/step - loss: 0.5410 - accuracy: 0.8250\n",
      "Epoch 24/100\n",
      "2/2 [==============================] - 0s 0s/step - loss: 0.5306 - accuracy: 0.8250\n",
      "Epoch 25/100\n",
      "2/2 [==============================] - 0s 601us/step - loss: 0.5194 - accuracy: 0.8250\n",
      "Epoch 26/100\n",
      "2/2 [==============================] - 0s 8ms/step - loss: 0.5072 - accuracy: 0.8250\n",
      "Epoch 27/100\n",
      "2/2 [==============================] - 0s 8ms/step - loss: 0.4947 - accuracy: 0.8250\n",
      "Epoch 28/100\n",
      "2/2 [==============================] - 0s 8ms/step - loss: 0.4810 - accuracy: 0.8250\n",
      "Epoch 29/100\n",
      "2/2 [==============================] - 0s 0s/step - loss: 0.4678 - accuracy: 0.8250\n",
      "Epoch 30/100\n",
      "2/2 [==============================] - 0s 0s/step - loss: 0.4556 - accuracy: 0.8500\n",
      "Epoch 31/100\n",
      "2/2 [==============================] - 0s 515us/step - loss: 0.4446 - accuracy: 0.8500\n",
      "Epoch 32/100\n",
      "2/2 [==============================] - 0s 8ms/step - loss: 0.4319 - accuracy: 0.8750\n",
      "Epoch 33/100\n",
      "2/2 [==============================] - 0s 8ms/step - loss: 0.4211 - accuracy: 0.9250\n",
      "Epoch 34/100\n",
      "2/2 [==============================] - 0s 0s/step - loss: 0.4096 - accuracy: 0.9250\n",
      "Epoch 35/100\n",
      "2/2 [==============================] - 0s 0s/step - loss: 0.3988 - accuracy: 0.8500\n",
      "Epoch 36/100\n",
      "2/2 [==============================] - 0s 540us/step - loss: 0.3890 - accuracy: 0.8250\n",
      "Epoch 37/100\n",
      "2/2 [==============================] - 0s 8ms/step - loss: 0.3785 - accuracy: 0.8500\n",
      "Epoch 38/100\n",
      "2/2 [==============================] - 0s 8ms/step - loss: 0.3685 - accuracy: 0.8500\n",
      "Epoch 39/100\n",
      "2/2 [==============================] - 0s 9ms/step - loss: 0.3586 - accuracy: 0.8750\n",
      "Epoch 40/100\n",
      "2/2 [==============================] - 0s 9ms/step - loss: 0.3496 - accuracy: 0.8750\n",
      "Epoch 41/100\n",
      "2/2 [==============================] - 0s 11ms/step - loss: 0.3399 - accuracy: 0.9500\n",
      "Epoch 42/100\n",
      "2/2 [==============================] - 0s 4ms/step - loss: 0.3318 - accuracy: 0.9000\n",
      "Epoch 43/100\n",
      "2/2 [==============================] - 0s 3ms/step - loss: 0.3235 - accuracy: 0.9000\n",
      "Epoch 44/100\n",
      "2/2 [==============================] - 0s 3ms/step - loss: 0.3151 - accuracy: 0.9500\n",
      "Epoch 45/100\n",
      "2/2 [==============================] - 0s 3ms/step - loss: 0.3065 - accuracy: 0.9500\n",
      "Epoch 46/100\n",
      "2/2 [==============================] - 0s 3ms/step - loss: 0.2992 - accuracy: 0.9500\n",
      "Epoch 47/100\n",
      "2/2 [==============================] - 0s 3ms/step - loss: 0.2922 - accuracy: 0.9500\n",
      "Epoch 48/100\n",
      "2/2 [==============================] - 0s 3ms/step - loss: 0.2847 - accuracy: 0.9500\n",
      "Epoch 49/100\n",
      "2/2 [==============================] - 0s 3ms/step - loss: 0.2770 - accuracy: 0.9500\n",
      "Epoch 50/100\n",
      "2/2 [==============================] - 0s 2ms/step - loss: 0.2700 - accuracy: 0.9500\n",
      "Epoch 51/100\n",
      "2/2 [==============================] - 0s 3ms/step - loss: 0.2639 - accuracy: 0.9500\n",
      "Epoch 52/100\n",
      "2/2 [==============================] - 0s 3ms/step - loss: 0.2577 - accuracy: 0.9500\n",
      "Epoch 53/100\n",
      "2/2 [==============================] - 0s 4ms/step - loss: 0.2506 - accuracy: 0.9500\n",
      "Epoch 54/100\n",
      "2/2 [==============================] - 0s 2ms/step - loss: 0.2427 - accuracy: 0.9500\n",
      "Epoch 55/100\n",
      "2/2 [==============================] - 0s 2ms/step - loss: 0.2353 - accuracy: 0.9500\n",
      "Epoch 56/100\n",
      "2/2 [==============================] - 0s 3ms/step - loss: 0.2311 - accuracy: 0.9500\n",
      "Epoch 57/100\n",
      "2/2 [==============================] - 0s 3ms/step - loss: 0.2272 - accuracy: 0.9500\n",
      "Epoch 58/100\n",
      "2/2 [==============================] - 0s 5ms/step - loss: 0.2192 - accuracy: 0.9500\n",
      "Epoch 59/100\n",
      "2/2 [==============================] - 0s 3ms/step - loss: 0.2108 - accuracy: 0.9500\n",
      "Epoch 60/100\n",
      "2/2 [==============================] - 0s 3ms/step - loss: 0.2061 - accuracy: 0.9500\n",
      "Epoch 61/100\n",
      "2/2 [==============================] - 0s 3ms/step - loss: 0.2000 - accuracy: 0.9500\n",
      "Epoch 62/100\n",
      "2/2 [==============================] - 0s 3ms/step - loss: 0.1918 - accuracy: 0.9500\n",
      "Epoch 63/100\n",
      "2/2 [==============================] - 0s 4ms/step - loss: 0.1934 - accuracy: 0.9500\n",
      "Epoch 64/100\n",
      "2/2 [==============================] - 0s 4ms/step - loss: 0.1899 - accuracy: 0.9500\n",
      "Epoch 65/100\n",
      "2/2 [==============================] - 0s 3ms/step - loss: 0.1825 - accuracy: 0.9500\n",
      "Epoch 66/100\n",
      "2/2 [==============================] - 0s 3ms/step - loss: 0.1771 - accuracy: 0.9500\n",
      "Epoch 67/100\n",
      "2/2 [==============================] - 0s 3ms/step - loss: 0.1712 - accuracy: 0.9500\n",
      "Epoch 68/100\n",
      "2/2 [==============================] - 0s 4ms/step - loss: 0.1663 - accuracy: 0.9500\n",
      "Epoch 69/100\n",
      "2/2 [==============================] - 0s 3ms/step - loss: 0.1633 - accuracy: 0.9500\n",
      "Epoch 70/100\n",
      "2/2 [==============================] - 0s 3ms/step - loss: 0.1591 - accuracy: 0.9500\n",
      "Epoch 71/100\n",
      "2/2 [==============================] - 0s 3ms/step - loss: 0.1555 - accuracy: 0.9500\n",
      "Epoch 72/100\n",
      "2/2 [==============================] - 0s 3ms/step - loss: 0.1523 - accuracy: 0.9500\n",
      "Epoch 73/100\n",
      "2/2 [==============================] - 0s 4ms/step - loss: 0.1504 - accuracy: 0.9500\n",
      "Epoch 74/100\n",
      "2/2 [==============================] - 0s 3ms/step - loss: 0.1452 - accuracy: 0.9500\n",
      "Epoch 75/100\n",
      "2/2 [==============================] - 0s 3ms/step - loss: 0.1455 - accuracy: 0.9750\n",
      "Epoch 76/100\n",
      "2/2 [==============================] - 0s 3ms/step - loss: 0.1416 - accuracy: 0.9750\n",
      "Epoch 77/100\n",
      "2/2 [==============================] - 0s 2ms/step - loss: 0.1360 - accuracy: 0.9500\n",
      "Epoch 78/100\n",
      "2/2 [==============================] - 0s 3ms/step - loss: 0.1336 - accuracy: 0.9500\n",
      "Epoch 79/100\n",
      "2/2 [==============================] - 0s 3ms/step - loss: 0.1377 - accuracy: 0.9500\n",
      "Epoch 80/100\n",
      "2/2 [==============================] - 0s 5ms/step - loss: 0.1355 - accuracy: 0.9500\n",
      "Epoch 81/100\n",
      "2/2 [==============================] - 0s 3ms/step - loss: 0.1287 - accuracy: 0.9500\n",
      "Epoch 82/100\n",
      "2/2 [==============================] - 0s 3ms/step - loss: 0.1258 - accuracy: 0.9750\n",
      "Epoch 83/100\n",
      "2/2 [==============================] - 0s 3ms/step - loss: 0.1279 - accuracy: 0.9750\n",
      "Epoch 84/100\n"
     ]
    },
    {
     "name": "stdout",
     "output_type": "stream",
     "text": [
      "2/2 [==============================] - 0s 2ms/step - loss: 0.1192 - accuracy: 0.9750\n",
      "Epoch 85/100\n",
      "2/2 [==============================] - 0s 3ms/step - loss: 0.1172 - accuracy: 0.9750\n",
      "Epoch 86/100\n",
      "2/2 [==============================] - 0s 3ms/step - loss: 0.1282 - accuracy: 0.9500\n",
      "Epoch 87/100\n",
      "2/2 [==============================] - 0s 1ms/step - loss: 0.1309 - accuracy: 0.9500\n",
      "Epoch 88/100\n",
      "2/2 [==============================] - 0s 3ms/step - loss: 0.1255 - accuracy: 0.9500\n",
      "Epoch 89/100\n",
      "2/2 [==============================] - 0s 6ms/step - loss: 0.1163 - accuracy: 0.9500\n",
      "Epoch 90/100\n",
      "2/2 [==============================] - 0s 4ms/step - loss: 0.1133 - accuracy: 0.9750\n",
      "Epoch 91/100\n",
      "2/2 [==============================] - 0s 2ms/step - loss: 0.1081 - accuracy: 0.9750\n",
      "Epoch 92/100\n",
      "2/2 [==============================] - 0s 3ms/step - loss: 0.1074 - accuracy: 0.9750\n",
      "Epoch 93/100\n",
      "2/2 [==============================] - 0s 3ms/step - loss: 0.1057 - accuracy: 0.9750\n",
      "Epoch 94/100\n",
      "2/2 [==============================] - 0s 5ms/step - loss: 0.1041 - accuracy: 0.9750\n",
      "Epoch 95/100\n",
      "2/2 [==============================] - 0s 4ms/step - loss: 0.1020 - accuracy: 0.9750\n",
      "Epoch 96/100\n",
      "2/2 [==============================] - 0s 2ms/step - loss: 0.1017 - accuracy: 0.9750\n",
      "Epoch 97/100\n",
      "2/2 [==============================] - 0s 3ms/step - loss: 0.1019 - accuracy: 0.9750\n",
      "Epoch 98/100\n",
      "2/2 [==============================] - 0s 5ms/step - loss: 0.0992 - accuracy: 0.9750\n",
      "Epoch 99/100\n",
      "2/2 [==============================] - 0s 236us/step - loss: 0.0963 - accuracy: 0.9750\n",
      "Epoch 100/100\n",
      "2/2 [==============================] - 0s 3ms/step - loss: 0.0948 - accuracy: 0.9750\n"
     ]
    },
    {
     "data": {
      "text/plain": [
       "<keras.callbacks.History at 0x1682122f550>"
      ]
     },
     "execution_count": 174,
     "metadata": {},
     "output_type": "execute_result"
    }
   ],
   "source": [
    "model5.fit(X_train,y_train,epochs=100)"
   ]
  },
  {
   "cell_type": "code",
   "execution_count": 175,
   "id": "a8e81ed5",
   "metadata": {
    "scrolled": true
   },
   "outputs": [
    {
     "name": "stdout",
     "output_type": "stream",
     "text": [
      "12/12 [==============================] - 0s 2ms/step\n"
     ]
    },
    {
     "data": {
      "text/plain": [
       "array([[0.9999994 ],\n",
       "       [0.03426578],\n",
       "       [0.03279847],\n",
       "       [0.9916259 ],\n",
       "       [0.02676562],\n",
       "       [0.05183294],\n",
       "       [0.9993678 ],\n",
       "       [0.02892601],\n",
       "       [0.6544516 ],\n",
       "       [0.33339128],\n",
       "       [0.9998317 ],\n",
       "       [0.9945795 ],\n",
       "       [0.9997672 ],\n",
       "       [0.99896646],\n",
       "       [0.99997115],\n",
       "       [0.99968016],\n",
       "       [0.9998306 ],\n",
       "       [0.9994353 ],\n",
       "       [0.21667106],\n",
       "       [0.10295532],\n",
       "       [0.90564317],\n",
       "       [0.99963003],\n",
       "       [0.9695717 ],\n",
       "       [0.40879568],\n",
       "       [0.99784404],\n",
       "       [0.99797714],\n",
       "       [0.01978563],\n",
       "       [0.9996233 ],\n",
       "       [0.99996996],\n",
       "       [0.24096762],\n",
       "       [0.9999882 ],\n",
       "       [0.9999425 ],\n",
       "       [0.9655851 ],\n",
       "       [0.99993914],\n",
       "       [0.39341635],\n",
       "       [0.03168846],\n",
       "       [0.99927986],\n",
       "       [0.10068926],\n",
       "       [0.30451965],\n",
       "       [0.99658823],\n",
       "       [0.9999954 ],\n",
       "       [0.02176731],\n",
       "       [0.14164019],\n",
       "       [0.417533  ],\n",
       "       [0.98778707],\n",
       "       [0.99993384],\n",
       "       [0.999996  ],\n",
       "       [0.01977205],\n",
       "       [0.05013698],\n",
       "       [0.99961627],\n",
       "       [0.9994526 ],\n",
       "       [0.19579585],\n",
       "       [0.03270978],\n",
       "       [0.994448  ],\n",
       "       [0.09190887],\n",
       "       [0.6034569 ],\n",
       "       [0.79792565],\n",
       "       [0.02154791],\n",
       "       [0.9993313 ],\n",
       "       [0.9968782 ],\n",
       "       [0.38292912],\n",
       "       [0.9999733 ],\n",
       "       [0.99999726],\n",
       "       [0.0419783 ],\n",
       "       [0.99998987],\n",
       "       [0.99996746],\n",
       "       [0.26672527],\n",
       "       [0.29910558],\n",
       "       [0.6480512 ],\n",
       "       [0.0332382 ],\n",
       "       [0.09210562],\n",
       "       [0.99959296],\n",
       "       [0.04165738],\n",
       "       [0.09482978],\n",
       "       [0.999962  ],\n",
       "       [0.8503306 ],\n",
       "       [0.9998142 ],\n",
       "       [0.968948  ],\n",
       "       [0.037156  ],\n",
       "       [0.52892274],\n",
       "       [0.0292254 ],\n",
       "       [0.9999989 ],\n",
       "       [0.9998887 ],\n",
       "       [0.0434906 ],\n",
       "       [0.34471112],\n",
       "       [0.99999845],\n",
       "       [0.18651439],\n",
       "       [0.99999344],\n",
       "       [0.9999989 ],\n",
       "       [0.9999222 ],\n",
       "       [0.9996147 ],\n",
       "       [0.99999285],\n",
       "       [0.9993509 ],\n",
       "       [0.99999917],\n",
       "       [0.05105802],\n",
       "       [0.20421566],\n",
       "       [0.99999595],\n",
       "       [0.20813037],\n",
       "       [0.02477992],\n",
       "       [0.9998289 ],\n",
       "       [0.35397947],\n",
       "       [0.99988854],\n",
       "       [0.99997956],\n",
       "       [0.761344  ],\n",
       "       [0.9999796 ],\n",
       "       [0.1712301 ],\n",
       "       [0.9999705 ],\n",
       "       [0.9997554 ],\n",
       "       [0.01754973],\n",
       "       [0.25471455],\n",
       "       [0.99996394],\n",
       "       [0.99998367],\n",
       "       [0.02901248],\n",
       "       [0.04118351],\n",
       "       [0.9627859 ],\n",
       "       [0.4667095 ],\n",
       "       [0.02843873],\n",
       "       [0.9999849 ],\n",
       "       [0.999916  ],\n",
       "       [0.890782  ],\n",
       "       [0.9999635 ],\n",
       "       [0.9999995 ],\n",
       "       [0.03079722],\n",
       "       [0.15355963],\n",
       "       [0.99888724],\n",
       "       [0.9999982 ],\n",
       "       [0.06041616],\n",
       "       [0.37479576],\n",
       "       [0.11164077],\n",
       "       [0.999905  ],\n",
       "       [0.05401549],\n",
       "       [0.9938004 ],\n",
       "       [0.25243905],\n",
       "       [0.02059737],\n",
       "       [0.02556825],\n",
       "       [0.99992627],\n",
       "       [0.9999979 ],\n",
       "       [0.99998844],\n",
       "       [0.9999849 ],\n",
       "       [0.79728985],\n",
       "       [0.9102019 ],\n",
       "       [0.02756134],\n",
       "       [0.99967307],\n",
       "       [0.99999076],\n",
       "       [0.99998975],\n",
       "       [0.01802733],\n",
       "       [0.08930583],\n",
       "       [0.9660323 ],\n",
       "       [0.21841784],\n",
       "       [0.9999913 ],\n",
       "       [0.9999725 ],\n",
       "       [0.07574029],\n",
       "       [0.9824915 ],\n",
       "       [0.99978906],\n",
       "       [0.02201109],\n",
       "       [0.99999887],\n",
       "       [0.9999983 ],\n",
       "       [0.99896777],\n",
       "       [0.99997973],\n",
       "       [0.9996031 ],\n",
       "       [0.0224371 ],\n",
       "       [0.17264771],\n",
       "       [0.0555279 ],\n",
       "       [0.9999812 ],\n",
       "       [0.47194707],\n",
       "       [0.99999017],\n",
       "       [0.99956226],\n",
       "       [0.9999994 ],\n",
       "       [0.0416234 ],\n",
       "       [0.9999909 ],\n",
       "       [0.9999835 ],\n",
       "       [0.99999404],\n",
       "       [0.99998355],\n",
       "       [0.9998095 ],\n",
       "       [0.13410866],\n",
       "       [0.9999839 ],\n",
       "       [0.06648386],\n",
       "       [0.999993  ],\n",
       "       [0.99998313],\n",
       "       [0.13645041],\n",
       "       [0.97915703],\n",
       "       [0.9992232 ],\n",
       "       [0.9999743 ],\n",
       "       [0.9960666 ],\n",
       "       [0.9996193 ],\n",
       "       [0.55626905],\n",
       "       [0.17324285],\n",
       "       [0.33263585],\n",
       "       [0.20625971],\n",
       "       [0.9981685 ],\n",
       "       [0.99994075],\n",
       "       [0.9999917 ],\n",
       "       [0.9755814 ],\n",
       "       [0.68197   ],\n",
       "       [0.99999744],\n",
       "       [0.99954313],\n",
       "       [0.9983121 ],\n",
       "       [0.29884353],\n",
       "       [0.34227994],\n",
       "       [0.74291223],\n",
       "       [0.13874649],\n",
       "       [0.43784463],\n",
       "       [0.99972683],\n",
       "       [0.0899912 ],\n",
       "       [0.99977124],\n",
       "       [0.4510205 ],\n",
       "       [0.99998724],\n",
       "       [0.9966219 ],\n",
       "       [0.9998355 ],\n",
       "       [0.02242873],\n",
       "       [0.999998  ],\n",
       "       [0.2774764 ],\n",
       "       [0.7174353 ],\n",
       "       [0.99999136],\n",
       "       [0.03203118],\n",
       "       [0.999999  ],\n",
       "       [0.07303841],\n",
       "       [0.09286041],\n",
       "       [0.99049646],\n",
       "       [0.99995536],\n",
       "       [0.33367628],\n",
       "       [0.9995426 ],\n",
       "       [0.99998856],\n",
       "       [0.25124025],\n",
       "       [0.9791186 ],\n",
       "       [0.0247132 ],\n",
       "       [0.9988833 ],\n",
       "       [0.43979838],\n",
       "       [0.99964416],\n",
       "       [0.07015889],\n",
       "       [0.99999905],\n",
       "       [0.9999905 ],\n",
       "       [0.9974997 ],\n",
       "       [0.9969909 ],\n",
       "       [0.27143726],\n",
       "       [0.99989736],\n",
       "       [0.9530545 ],\n",
       "       [0.30963466],\n",
       "       [0.99998564],\n",
       "       [0.35168555],\n",
       "       [0.99997914],\n",
       "       [0.9946685 ],\n",
       "       [0.19406234],\n",
       "       [0.04181596],\n",
       "       [0.9999977 ],\n",
       "       [0.02096846],\n",
       "       [0.60542065],\n",
       "       [0.02613461],\n",
       "       [0.24628717],\n",
       "       [0.0471126 ],\n",
       "       [0.15088007],\n",
       "       [0.5819899 ],\n",
       "       [0.9637304 ],\n",
       "       [0.05445381],\n",
       "       [0.03088469],\n",
       "       [0.03128019],\n",
       "       [0.9993787 ],\n",
       "       [0.16647306],\n",
       "       [0.9998932 ],\n",
       "       [0.9999622 ],\n",
       "       [0.99973536],\n",
       "       [0.49236745],\n",
       "       [0.15338284],\n",
       "       [0.99997824],\n",
       "       [0.4191986 ],\n",
       "       [0.41623002],\n",
       "       [0.02940096],\n",
       "       [0.03144472],\n",
       "       [0.08295501],\n",
       "       [0.04444746],\n",
       "       [0.846088  ],\n",
       "       [0.12023833],\n",
       "       [0.9789258 ],\n",
       "       [0.9551242 ],\n",
       "       [0.99994516],\n",
       "       [0.03847768],\n",
       "       [0.07386531],\n",
       "       [0.02821952],\n",
       "       [0.1278213 ],\n",
       "       [0.02395812],\n",
       "       [0.47872293],\n",
       "       [0.9989252 ],\n",
       "       [0.9999997 ],\n",
       "       [0.99362457],\n",
       "       [0.02306898],\n",
       "       [0.9998742 ],\n",
       "       [0.9999276 ],\n",
       "       [0.3574438 ],\n",
       "       [0.04559278],\n",
       "       [0.6570635 ],\n",
       "       [0.99999225],\n",
       "       [0.9950065 ],\n",
       "       [0.28624395],\n",
       "       [0.9999119 ],\n",
       "       [0.999709  ],\n",
       "       [0.99978185],\n",
       "       [0.9990965 ],\n",
       "       [0.9998916 ],\n",
       "       [0.9985551 ],\n",
       "       [0.26734933],\n",
       "       [0.07579563],\n",
       "       [0.0615244 ],\n",
       "       [0.9998754 ],\n",
       "       [0.9998182 ],\n",
       "       [0.3391426 ],\n",
       "       [0.9996705 ],\n",
       "       [0.9999285 ],\n",
       "       [0.01743048],\n",
       "       [0.99993366],\n",
       "       [0.1595593 ],\n",
       "       [0.9999219 ],\n",
       "       [0.2729334 ],\n",
       "       [0.03211392],\n",
       "       [0.14720209],\n",
       "       [0.40193623],\n",
       "       [0.0303871 ],\n",
       "       [0.10113478],\n",
       "       [0.13064468],\n",
       "       [0.13751832],\n",
       "       [0.02577581],\n",
       "       [0.9999856 ],\n",
       "       [0.19973437],\n",
       "       [0.09852009],\n",
       "       [0.9998042 ],\n",
       "       [0.9999874 ],\n",
       "       [0.99962467],\n",
       "       [0.20559697],\n",
       "       [0.9999934 ],\n",
       "       [0.9999799 ],\n",
       "       [0.9999904 ],\n",
       "       [0.10822896],\n",
       "       [0.30377167],\n",
       "       [0.9998795 ],\n",
       "       [0.13878712],\n",
       "       [0.02728993],\n",
       "       [0.9999357 ],\n",
       "       [0.3795898 ],\n",
       "       [0.9998555 ],\n",
       "       [0.9999988 ],\n",
       "       [0.9999991 ],\n",
       "       [0.02512117],\n",
       "       [0.13605762],\n",
       "       [0.9998006 ],\n",
       "       [0.9998011 ],\n",
       "       [0.9998007 ],\n",
       "       [0.9995769 ],\n",
       "       [0.9999975 ],\n",
       "       [0.96607935],\n",
       "       [0.14704283],\n",
       "       [0.9889596 ],\n",
       "       [0.48275644],\n",
       "       [0.09560474],\n",
       "       [0.03094977],\n",
       "       [0.30916598],\n",
       "       [0.9999713 ],\n",
       "       [0.99999875],\n",
       "       [0.9999747 ],\n",
       "       [0.06708185],\n",
       "       [0.22439615],\n",
       "       [0.99968016]], dtype=float32)"
      ]
     },
     "execution_count": 175,
     "metadata": {},
     "output_type": "execute_result"
    }
   ],
   "source": [
    "y_pred5=model5.predict(X_test)\n",
    "y_pred5"
   ]
  },
  {
   "cell_type": "code",
   "execution_count": 176,
   "id": "f6575c68",
   "metadata": {
    "scrolled": true
   },
   "outputs": [
    {
     "data": {
      "text/plain": [
       "array([[0.9999994 ],\n",
       "       [0.03426578],\n",
       "       [0.03279847],\n",
       "       [0.9916259 ],\n",
       "       [0.02676562],\n",
       "       [0.05183294],\n",
       "       [0.9993678 ],\n",
       "       [0.02892601],\n",
       "       [0.6544516 ],\n",
       "       [0.33339128],\n",
       "       [0.9998317 ],\n",
       "       [0.9945795 ],\n",
       "       [0.9997672 ],\n",
       "       [0.99896646],\n",
       "       [0.99997115],\n",
       "       [0.99968016],\n",
       "       [0.9998306 ],\n",
       "       [0.9994353 ],\n",
       "       [0.21667106],\n",
       "       [0.10295532],\n",
       "       [0.90564317],\n",
       "       [0.99963003],\n",
       "       [0.9695717 ],\n",
       "       [0.40879568],\n",
       "       [0.99784404],\n",
       "       [0.99797714],\n",
       "       [0.01978563],\n",
       "       [0.9996233 ],\n",
       "       [0.99996996],\n",
       "       [0.24096762],\n",
       "       [0.9999882 ],\n",
       "       [0.9999425 ],\n",
       "       [0.9655851 ],\n",
       "       [0.99993914],\n",
       "       [0.39341635],\n",
       "       [0.03168846],\n",
       "       [0.99927986],\n",
       "       [0.10068926],\n",
       "       [0.30451965],\n",
       "       [0.99658823],\n",
       "       [0.9999954 ],\n",
       "       [0.02176731],\n",
       "       [0.14164019],\n",
       "       [0.417533  ],\n",
       "       [0.98778707],\n",
       "       [0.99993384],\n",
       "       [0.999996  ],\n",
       "       [0.01977205],\n",
       "       [0.05013698],\n",
       "       [0.99961627],\n",
       "       [0.9994526 ],\n",
       "       [0.19579585],\n",
       "       [0.03270978],\n",
       "       [0.994448  ],\n",
       "       [0.09190887],\n",
       "       [0.6034569 ],\n",
       "       [0.79792565],\n",
       "       [0.02154791],\n",
       "       [0.9993313 ],\n",
       "       [0.9968782 ],\n",
       "       [0.38292912],\n",
       "       [0.9999733 ],\n",
       "       [0.99999726],\n",
       "       [0.0419783 ],\n",
       "       [0.99998987],\n",
       "       [0.99996746],\n",
       "       [0.26672527],\n",
       "       [0.29910558],\n",
       "       [0.6480512 ],\n",
       "       [0.0332382 ],\n",
       "       [0.09210562],\n",
       "       [0.99959296],\n",
       "       [0.04165738],\n",
       "       [0.09482978],\n",
       "       [0.999962  ],\n",
       "       [0.8503306 ],\n",
       "       [0.9998142 ],\n",
       "       [0.968948  ],\n",
       "       [0.037156  ],\n",
       "       [0.52892274],\n",
       "       [0.0292254 ],\n",
       "       [0.9999989 ],\n",
       "       [0.9998887 ],\n",
       "       [0.0434906 ],\n",
       "       [0.34471112],\n",
       "       [0.99999845],\n",
       "       [0.18651439],\n",
       "       [0.99999344],\n",
       "       [0.9999989 ],\n",
       "       [0.9999222 ],\n",
       "       [0.9996147 ],\n",
       "       [0.99999285],\n",
       "       [0.9993509 ],\n",
       "       [0.99999917],\n",
       "       [0.05105802],\n",
       "       [0.20421566],\n",
       "       [0.99999595],\n",
       "       [0.20813037],\n",
       "       [0.02477992],\n",
       "       [0.9998289 ],\n",
       "       [0.35397947],\n",
       "       [0.99988854],\n",
       "       [0.99997956],\n",
       "       [0.761344  ],\n",
       "       [0.9999796 ],\n",
       "       [0.1712301 ],\n",
       "       [0.9999705 ],\n",
       "       [0.9997554 ],\n",
       "       [0.01754973],\n",
       "       [0.25471455],\n",
       "       [0.99996394],\n",
       "       [0.99998367],\n",
       "       [0.02901248],\n",
       "       [0.04118351],\n",
       "       [0.9627859 ],\n",
       "       [0.4667095 ],\n",
       "       [0.02843873],\n",
       "       [0.9999849 ],\n",
       "       [0.999916  ],\n",
       "       [0.890782  ],\n",
       "       [0.9999635 ],\n",
       "       [0.9999995 ],\n",
       "       [0.03079722],\n",
       "       [0.15355963],\n",
       "       [0.99888724],\n",
       "       [0.9999982 ],\n",
       "       [0.06041616],\n",
       "       [0.37479576],\n",
       "       [0.11164077],\n",
       "       [0.999905  ],\n",
       "       [0.05401549],\n",
       "       [0.9938004 ],\n",
       "       [0.25243905],\n",
       "       [0.02059737],\n",
       "       [0.02556825],\n",
       "       [0.99992627],\n",
       "       [0.9999979 ],\n",
       "       [0.99998844],\n",
       "       [0.9999849 ],\n",
       "       [0.79728985],\n",
       "       [0.9102019 ],\n",
       "       [0.02756134],\n",
       "       [0.99967307],\n",
       "       [0.99999076],\n",
       "       [0.99998975],\n",
       "       [0.01802733],\n",
       "       [0.08930583],\n",
       "       [0.9660323 ],\n",
       "       [0.21841784],\n",
       "       [0.9999913 ],\n",
       "       [0.9999725 ],\n",
       "       [0.07574029],\n",
       "       [0.9824915 ],\n",
       "       [0.99978906],\n",
       "       [0.02201109],\n",
       "       [0.99999887],\n",
       "       [0.9999983 ],\n",
       "       [0.99896777],\n",
       "       [0.99997973],\n",
       "       [0.9996031 ],\n",
       "       [0.0224371 ],\n",
       "       [0.17264771],\n",
       "       [0.0555279 ],\n",
       "       [0.9999812 ],\n",
       "       [0.47194707],\n",
       "       [0.99999017],\n",
       "       [0.99956226],\n",
       "       [0.9999994 ],\n",
       "       [0.0416234 ],\n",
       "       [0.9999909 ],\n",
       "       [0.9999835 ],\n",
       "       [0.99999404],\n",
       "       [0.99998355],\n",
       "       [0.9998095 ],\n",
       "       [0.13410866],\n",
       "       [0.9999839 ],\n",
       "       [0.06648386],\n",
       "       [0.999993  ],\n",
       "       [0.99998313],\n",
       "       [0.13645041],\n",
       "       [0.97915703],\n",
       "       [0.9992232 ],\n",
       "       [0.9999743 ],\n",
       "       [0.9960666 ],\n",
       "       [0.9996193 ],\n",
       "       [0.55626905],\n",
       "       [0.17324285],\n",
       "       [0.33263585],\n",
       "       [0.20625971],\n",
       "       [0.9981685 ],\n",
       "       [0.99994075],\n",
       "       [0.9999917 ],\n",
       "       [0.9755814 ],\n",
       "       [0.68197   ],\n",
       "       [0.99999744],\n",
       "       [0.99954313],\n",
       "       [0.9983121 ],\n",
       "       [0.29884353],\n",
       "       [0.34227994],\n",
       "       [0.74291223],\n",
       "       [0.13874649],\n",
       "       [0.43784463],\n",
       "       [0.99972683],\n",
       "       [0.0899912 ],\n",
       "       [0.99977124],\n",
       "       [0.4510205 ],\n",
       "       [0.99998724],\n",
       "       [0.9966219 ],\n",
       "       [0.9998355 ],\n",
       "       [0.02242873],\n",
       "       [0.999998  ],\n",
       "       [0.2774764 ],\n",
       "       [0.7174353 ],\n",
       "       [0.99999136],\n",
       "       [0.03203118],\n",
       "       [0.999999  ],\n",
       "       [0.07303841],\n",
       "       [0.09286041],\n",
       "       [0.99049646],\n",
       "       [0.99995536],\n",
       "       [0.33367628],\n",
       "       [0.9995426 ],\n",
       "       [0.99998856],\n",
       "       [0.25124025],\n",
       "       [0.9791186 ],\n",
       "       [0.0247132 ],\n",
       "       [0.9988833 ],\n",
       "       [0.43979838],\n",
       "       [0.99964416],\n",
       "       [0.07015889],\n",
       "       [0.99999905],\n",
       "       [0.9999905 ],\n",
       "       [0.9974997 ],\n",
       "       [0.9969909 ],\n",
       "       [0.27143726],\n",
       "       [0.99989736],\n",
       "       [0.9530545 ],\n",
       "       [0.30963466],\n",
       "       [0.99998564],\n",
       "       [0.35168555],\n",
       "       [0.99997914],\n",
       "       [0.9946685 ],\n",
       "       [0.19406234],\n",
       "       [0.04181596],\n",
       "       [0.9999977 ],\n",
       "       [0.02096846],\n",
       "       [0.60542065],\n",
       "       [0.02613461],\n",
       "       [0.24628717],\n",
       "       [0.0471126 ],\n",
       "       [0.15088007],\n",
       "       [0.5819899 ],\n",
       "       [0.9637304 ],\n",
       "       [0.05445381],\n",
       "       [0.03088469],\n",
       "       [0.03128019],\n",
       "       [0.9993787 ],\n",
       "       [0.16647306],\n",
       "       [0.9998932 ],\n",
       "       [0.9999622 ],\n",
       "       [0.99973536],\n",
       "       [0.49236745],\n",
       "       [0.15338284],\n",
       "       [0.99997824],\n",
       "       [0.4191986 ],\n",
       "       [0.41623002],\n",
       "       [0.02940096],\n",
       "       [0.03144472],\n",
       "       [0.08295501],\n",
       "       [0.04444746],\n",
       "       [0.846088  ],\n",
       "       [0.12023833],\n",
       "       [0.9789258 ],\n",
       "       [0.9551242 ],\n",
       "       [0.99994516],\n",
       "       [0.03847768],\n",
       "       [0.07386531],\n",
       "       [0.02821952],\n",
       "       [0.1278213 ],\n",
       "       [0.02395812],\n",
       "       [0.47872293],\n",
       "       [0.9989252 ],\n",
       "       [0.9999997 ],\n",
       "       [0.99362457],\n",
       "       [0.02306898],\n",
       "       [0.9998742 ],\n",
       "       [0.9999276 ],\n",
       "       [0.3574438 ],\n",
       "       [0.04559278],\n",
       "       [0.6570635 ],\n",
       "       [0.99999225],\n",
       "       [0.9950065 ],\n",
       "       [0.28624395],\n",
       "       [0.9999119 ],\n",
       "       [0.999709  ],\n",
       "       [0.99978185],\n",
       "       [0.9990965 ],\n",
       "       [0.9998916 ],\n",
       "       [0.9985551 ],\n",
       "       [0.26734933],\n",
       "       [0.07579563],\n",
       "       [0.0615244 ],\n",
       "       [0.9998754 ],\n",
       "       [0.9998182 ],\n",
       "       [0.3391426 ],\n",
       "       [0.9996705 ],\n",
       "       [0.9999285 ],\n",
       "       [0.01743048],\n",
       "       [0.99993366],\n",
       "       [0.1595593 ],\n",
       "       [0.9999219 ],\n",
       "       [0.2729334 ],\n",
       "       [0.03211392],\n",
       "       [0.14720209],\n",
       "       [0.40193623],\n",
       "       [0.0303871 ],\n",
       "       [0.10113478],\n",
       "       [0.13064468],\n",
       "       [0.13751832],\n",
       "       [0.02577581],\n",
       "       [0.9999856 ],\n",
       "       [0.19973437],\n",
       "       [0.09852009],\n",
       "       [0.9998042 ],\n",
       "       [0.9999874 ],\n",
       "       [0.99962467],\n",
       "       [0.20559697],\n",
       "       [0.9999934 ],\n",
       "       [0.9999799 ],\n",
       "       [0.9999904 ],\n",
       "       [0.10822896],\n",
       "       [0.30377167],\n",
       "       [0.9998795 ],\n",
       "       [0.13878712],\n",
       "       [0.02728993],\n",
       "       [0.9999357 ],\n",
       "       [0.3795898 ],\n",
       "       [0.9998555 ],\n",
       "       [0.9999988 ],\n",
       "       [0.9999991 ],\n",
       "       [0.02512117],\n",
       "       [0.13605762],\n",
       "       [0.9998006 ],\n",
       "       [0.9998011 ],\n",
       "       [0.9998007 ],\n",
       "       [0.9995769 ],\n",
       "       [0.9999975 ],\n",
       "       [0.96607935],\n",
       "       [0.14704283],\n",
       "       [0.9889596 ],\n",
       "       [0.48275644],\n",
       "       [0.09560474],\n",
       "       [0.03094977],\n",
       "       [0.30916598],\n",
       "       [0.9999713 ],\n",
       "       [0.99999875],\n",
       "       [0.9999747 ],\n",
       "       [0.06708185],\n",
       "       [0.22439615],\n",
       "       [0.99968016]], dtype=float32)"
      ]
     },
     "execution_count": 176,
     "metadata": {},
     "output_type": "execute_result"
    }
   ],
   "source": [
    "y_prediction5=np.stack(y_pred5)\n",
    "y_prediction5"
   ]
  },
  {
   "cell_type": "code",
   "execution_count": 177,
   "id": "d19e5edc",
   "metadata": {},
   "outputs": [
    {
     "name": "stdout",
     "output_type": "stream",
     "text": [
      "2/2 [==============================] - 0s 0s/step\n"
     ]
    },
    {
     "data": {
      "text/plain": [
       "array([[0.0528253 ],\n",
       "       [0.8932037 ],\n",
       "       [0.9999991 ],\n",
       "       [0.98479545],\n",
       "       [0.9999158 ],\n",
       "       [0.130542  ],\n",
       "       [0.9999742 ],\n",
       "       [0.16449912],\n",
       "       [0.0250774 ],\n",
       "       [0.9156845 ],\n",
       "       [0.99999017],\n",
       "       [0.9826648 ],\n",
       "       [0.9261498 ],\n",
       "       [0.9999411 ],\n",
       "       [0.124662  ],\n",
       "       [0.9999755 ],\n",
       "       [0.29134646],\n",
       "       [0.02058716],\n",
       "       [0.0300258 ],\n",
       "       [0.82914895],\n",
       "       [0.99916625],\n",
       "       [0.07082301],\n",
       "       [0.99995965],\n",
       "       [0.10091591],\n",
       "       [0.31338853],\n",
       "       [0.02488471],\n",
       "       [0.99998397],\n",
       "       [0.99998707],\n",
       "       [0.9995093 ],\n",
       "       [0.17509426],\n",
       "       [0.02951343],\n",
       "       [0.04001682],\n",
       "       [0.9862995 ],\n",
       "       [0.9999821 ],\n",
       "       [0.07802354],\n",
       "       [0.02558032],\n",
       "       [0.02275299],\n",
       "       [0.5972642 ],\n",
       "       [0.02703224],\n",
       "       [0.02805608]], dtype=float32)"
      ]
     },
     "execution_count": 177,
     "metadata": {},
     "output_type": "execute_result"
    }
   ],
   "source": [
    "predict5=model5.predict(X_train)\n",
    "predict5"
   ]
  },
  {
   "cell_type": "code",
   "execution_count": 178,
   "id": "fa6d7601",
   "metadata": {},
   "outputs": [
    {
     "data": {
      "text/plain": [
       "array([0.])"
      ]
     },
     "execution_count": 178,
     "metadata": {},
     "output_type": "execute_result"
    }
   ],
   "source": [
    "model1.predict([[66.0,70.0,1.8,5.900000,5300.000000,0.0,0.0,0.0,16.000000,94.000000,0.0,0.0]])"
   ]
  },
  {
   "cell_type": "code",
   "execution_count": 179,
   "id": "a34aab6c",
   "metadata": {},
   "outputs": [
    {
     "name": "stdout",
     "output_type": "stream",
     "text": [
      "1/1 [==============================] - 0s 23ms/step\n"
     ]
    },
    {
     "data": {
      "text/plain": [
       "array([[1.]], dtype=float32)"
      ]
     },
     "execution_count": 179,
     "metadata": {},
     "output_type": "execute_result"
    }
   ],
   "source": [
    "model5.predict([[148.0,700.0,1.7,5.9000,1300.000000,1.0,1.0,1.0,16.000000,94.000000,1.0,1.0]])"
   ]
  },
  {
   "cell_type": "code",
   "execution_count": null,
   "id": "e8ab72fc",
   "metadata": {},
   "outputs": [],
   "source": []
  },
  {
   "cell_type": "code",
   "execution_count": null,
   "id": "4788b812",
   "metadata": {},
   "outputs": [],
   "source": []
  }
 ],
 "metadata": {
  "kernelspec": {
   "display_name": "Python 3 (ipykernel)",
   "language": "python",
   "name": "python3"
  },
  "language_info": {
   "codemirror_mode": {
    "name": "ipython",
    "version": 3
   },
   "file_extension": ".py",
   "mimetype": "text/x-python",
   "name": "python",
   "nbconvert_exporter": "python",
   "pygments_lexer": "ipython3",
   "version": "3.9.12"
  }
 },
 "nbformat": 4,
 "nbformat_minor": 5
}
